{
 "cells": [
  {
   "cell_type": "code",
   "execution_count": null,
   "metadata": {},
   "outputs": [],
   "source": [
    "import os\n",
    "import re\n",
    "import git\n",
    "import sys\n",
    "import glob\n",
    "import json\n",
    "import joblib\n",
    "import sklearn\n",
    "import skimage\n",
    "import tifffile\n",
    "import imageio\n",
    "import numpy as np\n",
    "import pandas as pd\n",
    "import seaborn as sns\n",
    "import pathlib\n",
    "\n",
    "import matplotlib\n",
    "from matplotlib import pyplot as plt"
   ]
  },
  {
   "cell_type": "code",
   "execution_count": null,
   "metadata": {},
   "outputs": [],
   "source": [
    "import dragonfly_automation.utils\n",
    "from dragonfly_automation.fov_models import PipelineFOVScorer"
   ]
  },
  {
   "cell_type": "code",
   "execution_count": null,
   "metadata": {},
   "outputs": [],
   "source": [
    "%load_ext autoreload\n",
    "%autoreload 2"
   ]
  },
  {
   "cell_type": "code",
   "execution_count": null,
   "metadata": {},
   "outputs": [],
   "source": [
    "fov_scorer = PipelineFOVScorer(save_dir='../models/2019-10-08/', mode='prediction')\n",
    "fov_scorer.load()\n",
    "fov_scorer.train()\n",
    "fov_scorer.validate()"
   ]
  },
  {
   "cell_type": "code",
   "execution_count": null,
   "metadata": {},
   "outputs": [],
   "source": [
    "from dragonfly_automation.gateway import mock_gateway"
   ]
  },
  {
   "cell_type": "code",
   "execution_count": null,
   "metadata": {},
   "outputs": [],
   "source": [
    "gate = mock_gateway.Gate('random-real')"
   ]
  },
  {
   "cell_type": "code",
   "execution_count": null,
   "metadata": {},
   "outputs": [],
   "source": [
    "gate.getLastMeta()"
   ]
  },
  {
   "cell_type": "code",
   "execution_count": null,
   "metadata": {},
   "outputs": [],
   "source": [
    "# PML0216 had progressively less clumpiness, with some too-few and no-nuclei FOVs\n",
    "pml_dir = pathlib.Path('/Volumes/ml_group/raw-pipeline-microscopy/PML0216/')\n",
    "\n",
    "# PML0316 was a very good full-plate\n",
    "# pml_dir = pathlib.Path('/Volumes/ml_group/raw-pipeline-microscopy/PML0316/')"
   ]
  },
  {
   "cell_type": "code",
   "execution_count": null,
   "metadata": {},
   "outputs": [],
   "source": [
    "snaps_dir = pml_dir / 'logs/fov-scoring/fov-images/'\n",
    "\n",
    "df = pd.read_csv(pml_dir / 'logs/fov-scoring/fov-score-log.csv')\n",
    "\n",
    "scored = df.loc[df.score.notna()]\n",
    "too_few = df.loc[df.comment == 'Too few nuclei in the FOV']\n",
    "no_nuclei = df.loc[df.comment == 'No nuclei in the FOV']\n",
    "\n",
    "scored = scored.sort_values(by='score', ascending=False)"
   ]
  },
  {
   "cell_type": "code",
   "execution_count": null,
   "metadata": {},
   "outputs": [],
   "source": [
    "scored.shape, too_few.shape, no_nuclei.shape"
   ]
  },
  {
   "cell_type": "code",
   "execution_count": null,
   "metadata": {},
   "outputs": [],
   "source": [
    "row = too_few.iloc[0]\n",
    "filepath = snaps_dir / f'FOV_{row.position_name}_RAW.tif'\n",
    "im = imageio.imread(filepath)\n",
    "plt.imshow(im)\n",
    "\n",
    "result = fov_scorer.score_raw_fov(im, min_otsu_thresh=700, min_num_nuclei=10)\n",
    "row.score, result.get('score'), result.get('comment')"
   ]
  },
  {
   "cell_type": "code",
   "execution_count": null,
   "metadata": {},
   "outputs": [],
   "source": [
    "dst_dirpath = '/Users/keith.cheveralls/projects/dragonfly-automation/dragonfly_automation/tests/artifacts/snaps/'\n",
    "import shutil\n",
    "shutil.copy2(filepath, os.path.join(dst_dirpath, 'too-few-1.tif'))"
   ]
  },
  {
   "cell_type": "code",
   "execution_count": null,
   "metadata": {},
   "outputs": [],
   "source": []
  },
  {
   "cell_type": "code",
   "execution_count": null,
   "metadata": {},
   "outputs": [],
   "source": []
  },
  {
   "cell_type": "code",
   "execution_count": null,
   "metadata": {},
   "outputs": [],
   "source": []
  },
  {
   "cell_type": "code",
   "execution_count": null,
   "metadata": {},
   "outputs": [],
   "source": []
  }
 ],
 "metadata": {
  "kernelspec": {
   "display_name": "dragonflyenv",
   "language": "python",
   "name": "dragonflyenv"
  },
  "language_info": {
   "codemirror_mode": {
    "name": "ipython",
    "version": 3
   },
   "file_extension": ".py",
   "mimetype": "text/x-python",
   "name": "python",
   "nbconvert_exporter": "python",
   "pygments_lexer": "ipython3",
   "version": "3.7.10"
  }
 },
 "nbformat": 4,
 "nbformat_minor": 2
}
