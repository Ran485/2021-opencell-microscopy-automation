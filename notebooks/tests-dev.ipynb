{
 "cells": [
  {
   "cell_type": "code",
   "execution_count": null,
   "metadata": {},
   "outputs": [],
   "source": [
    "import os\n",
    "import re\n",
    "import git\n",
    "import sys\n",
    "import glob\n",
    "import json\n",
    "import joblib\n",
    "import sklearn\n",
    "import skimage\n",
    "import tifffile\n",
    "import imageio\n",
    "import numpy as np\n",
    "import pandas as pd\n",
    "import seaborn as sns\n",
    "import pathlib\n",
    "\n",
    "import matplotlib\n",
    "from matplotlib import pyplot as plt"
   ]
  },
  {
   "cell_type": "code",
   "execution_count": null,
   "metadata": {},
   "outputs": [],
   "source": [
    "from dragonfly_automation import gateway_utils, microscope_operations\n",
    "from dragonfly_automation.acquisitions.pipeline_plate_settings import (\n",
    "    StackSettings,\n",
    "    dev_fluorescence_stack_settings\n",
    ")\n",
    "from dragonfly_automation.tests.mocks import mock_gateway\n",
    "from dragonfly_automation.fov_models import PipelineFOVScorer"
   ]
  },
  {
   "cell_type": "code",
   "execution_count": null,
   "metadata": {},
   "outputs": [],
   "source": [
    "%load_ext autoreload\n",
    "%autoreload 1"
   ]
  },
  {
   "cell_type": "code",
   "execution_count": null,
   "metadata": {},
   "outputs": [],
   "source": [
    "gate = mock_gateway.Gate('random-real')\n",
    "mm_core = gate.getCMMCore()\n",
    "mm_studio = gate.getStudio()\n",
    "\n",
    "datastore = mm_studio.data().createMultipageTIFFDatastore()\n",
    "\n",
    "messages = []\n",
    "def event_logger(message):\n",
    "    print(message)\n",
    "\n",
    "stack_settings = StackSettings(\n",
    "    stage_label='label', relative_bottom=0, relative_top=3, step_size=1\n",
    ")"
   ]
  },
  {
   "cell_type": "code",
   "execution_count": null,
   "metadata": {},
   "outputs": [],
   "source": [
    "mm_core._throw_get_tagged_image_error = True"
   ]
  },
  {
   "cell_type": "code",
   "execution_count": null,
   "metadata": {},
   "outputs": [],
   "source": [
    "microscope_operations.acquire_stack(\n",
    "    mm_studio, \n",
    "    mm_core, \n",
    "    datastore, \n",
    "    stack_settings, \n",
    "    channel_ind=0,\n",
    "    position_ind=123,\n",
    "    position_name='position_name',\n",
    "    event_logger=event_logger\n",
    ")"
   ]
  },
  {
   "cell_type": "code",
   "execution_count": null,
   "metadata": {},
   "outputs": [],
   "source": [
    "[str(image.getCoords()) for image in datastore.images]"
   ]
  },
  {
   "cell_type": "markdown",
   "metadata": {},
   "source": [
    "### Manually select FOVs from existing datasets"
   ]
  },
  {
   "cell_type": "code",
   "execution_count": null,
   "metadata": {},
   "outputs": [],
   "source": [
    "fov_scorer = PipelineFOVScorer(save_dir='../models/2019-10-08/', mode='prediction')\n",
    "fov_scorer.load()\n",
    "fov_scorer.train()\n",
    "fov_scorer.validate()"
   ]
  },
  {
   "cell_type": "code",
   "execution_count": null,
   "metadata": {},
   "outputs": [],
   "source": [
    "# PML0216 had progressively less clumpiness, with some too-few and no-nuclei FOVs\n",
    "pml_dir = pathlib.Path('/Volumes/ml_group/raw-pipeline-microscopy/PML0216/')\n",
    "\n",
    "# PML0316 was a very good full-plate\n",
    "# pml_dir = pathlib.Path('/Volumes/ml_group/raw-pipeline-microscopy/PML0316/')"
   ]
  },
  {
   "cell_type": "code",
   "execution_count": null,
   "metadata": {},
   "outputs": [],
   "source": [
    "snaps_dir = pml_dir / 'logs/fov-scoring/fov-images/'\n",
    "\n",
    "df = pd.read_csv(pml_dir / 'logs/fov-scoring/fov-score-log.csv')\n",
    "\n",
    "scored = df.loc[df.score.notna()]\n",
    "too_few = df.loc[df.comment == 'Too few nuclei in the FOV']\n",
    "no_nuclei = df.loc[df.comment == 'No nuclei in the FOV']\n",
    "\n",
    "scored = scored.sort_values(by='score', ascending=False)"
   ]
  },
  {
   "cell_type": "code",
   "execution_count": null,
   "metadata": {},
   "outputs": [],
   "source": [
    "scored.shape, too_few.shape, no_nuclei.shape"
   ]
  },
  {
   "cell_type": "code",
   "execution_count": null,
   "metadata": {},
   "outputs": [],
   "source": [
    "row = too_few.iloc[0]\n",
    "filepath = snaps_dir / f'FOV_{row.position_name}_RAW.tif'\n",
    "im = imageio.imread(filepath)\n",
    "plt.imshow(im)\n",
    "\n",
    "result = fov_scorer.score_raw_fov(im, min_otsu_thresh=700, min_num_nuclei=10)\n",
    "row.score, result.get('score'), result.get('comment')"
   ]
  },
  {
   "cell_type": "code",
   "execution_count": null,
   "metadata": {},
   "outputs": [],
   "source": [
    "dst_dirpath = '/Users/keith.cheveralls/projects/dragonfly-automation/dragonfly_automation/tests/artifacts/snaps/'\n",
    "import shutil\n",
    "shutil.copy2(filepath, os.path.join(dst_dirpath, 'too-few-1.tif'))"
   ]
  },
  {
   "cell_type": "code",
   "execution_count": null,
   "metadata": {},
   "outputs": [],
   "source": []
  }
 ],
 "metadata": {
  "kernelspec": {
   "display_name": "dragonflyenv",
   "language": "python",
   "name": "dragonflyenv"
  },
  "language_info": {
   "codemirror_mode": {
    "name": "ipython",
    "version": 3
   },
   "file_extension": ".py",
   "mimetype": "text/x-python",
   "name": "python",
   "nbconvert_exporter": "python",
   "pygments_lexer": "ipython3",
   "version": "3.7.10"
  }
 },
 "nbformat": 4,
 "nbformat_minor": 2
}
