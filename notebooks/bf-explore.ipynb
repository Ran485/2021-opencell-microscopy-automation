{
 "cells": [
  {
   "cell_type": "code",
   "execution_count": null,
   "metadata": {},
   "outputs": [],
   "source": [
    "import os\n",
    "import re\n",
    "import sys\n",
    "import glob\n",
    "import json\n",
    "import shutil\n",
    "import skimage\n",
    "import tifffile\n",
    "import numpy as np\n",
    "import pandas as pd\n",
    "import seaborn as sns\n",
    "\n",
    "from scipy import ndimage\n",
    "from matplotlib import pyplot as plt\n",
    "from matplotlib import colors as mplcolors\n",
    "\n",
    "from skimage import feature\n",
    "from skimage import morphology\n",
    "\n",
    "%load_ext autoreload\n",
    "%autoreload 2"
   ]
  },
  {
   "cell_type": "code",
   "execution_count": null,
   "metadata": {},
   "outputs": [],
   "source": [
    "sys.path.append('/Users/keith.cheveralls/projects/opencell-process/')\n",
    "from pipeline_process.imaging import image, utils, viz\n",
    "\n",
    "sys.path.append('/Users/keith.cheveralls/projects/dragonfly-automation/')\n",
    "import dragonfly_automation.utils\n",
    "from dragonfly_automation.fov_models import PipelineFOVScorer"
   ]
  },
  {
   "cell_type": "code",
   "execution_count": null,
   "metadata": {},
   "outputs": [],
   "source": [
    "tiff = image.RawPipelineTIFF(\n",
    "    '/Users/keith.cheveralls/image-data/dragonfly-automation-tests/ML0212_20191112/raw_data/MMStack_8-B9-8.ome.tif')"
   ]
  },
  {
   "cell_type": "code",
   "execution_count": null,
   "metadata": {},
   "outputs": [],
   "source": [
    "tiff.parse_micromanager_metadata()"
   ]
  },
  {
   "cell_type": "code",
   "execution_count": null,
   "metadata": {},
   "outputs": [],
   "source": [
    "plt.plot(tiff.mm_metadata.channel_ind)"
   ]
  },
  {
   "cell_type": "code",
   "execution_count": null,
   "metadata": {},
   "outputs": [],
   "source": [
    "mm = tiff.mm_metadata\n",
    "dapi = np.array([tiff.tiff.pages[ind].asarray() for ind in mm.loc[mm.channel_ind==0].page_ind])\n",
    "bf = np.array([tiff.tiff.pages[ind].asarray() for ind in mm.loc[mm.channel_ind==2].page_ind])"
   ]
  },
  {
   "cell_type": "code",
   "execution_count": null,
   "metadata": {},
   "outputs": [],
   "source": [
    "bf.shape, dapi.mean()"
   ]
  },
  {
   "cell_type": "code",
   "execution_count": null,
   "metadata": {},
   "outputs": [],
   "source": [
    "scorer = PipelineFOVScorer(mode='training')\n",
    "scorer.are_nuclei_in_fov(dapi.max(axis=0))"
   ]
  },
  {
   "cell_type": "code",
   "execution_count": null,
   "metadata": {},
   "outputs": [],
   "source": [
    "viz.imshow(skimage.filters.gaussian(bf[-1, :, :] - bf[20, :, :], sigma=1))"
   ]
  },
  {
   "cell_type": "code",
   "execution_count": null,
   "metadata": {},
   "outputs": [],
   "source": [
    "bf = bf.astype(float)"
   ]
  },
  {
   "cell_type": "code",
   "execution_count": null,
   "metadata": {},
   "outputs": [],
   "source": [
    "bf1 = (bf[21, :, :] - bf[19, :, :])\n",
    "bf2 = (bf[24, :, :] - bf[16, :, :])"
   ]
  },
  {
   "cell_type": "code",
   "execution_count": null,
   "metadata": {},
   "outputs": [],
   "source": [
    "bf1 = skimage.filters.gaussian(bf[21, :, :] - bf[19, :, :], sigma=1)\n",
    "bf2 = skimage.filters.gaussian(bf[24, :, :] - bf[16, :, :], sigma=1)"
   ]
  },
  {
   "cell_type": "code",
   "execution_count": null,
   "metadata": {},
   "outputs": [],
   "source": [
    "viz.imshow((bf[24, :, :] + bf[16, :, :] - 2*bf[20, ...]))"
   ]
  },
  {
   "cell_type": "code",
   "execution_count": null,
   "metadata": {},
   "outputs": [],
   "source": [
    "viz.imshow(np.concatenate((\n",
    "    1*utils.autogain(bf1, percentile=.01)[:, :, None],\n",
    "    0*utils.autogain(bf2, percentile=.01)[:, :, None],\n",
    "    1.0*utils.autogain(dapi.max(axis=0), percentile=.5)[:, :, None],\n",
    "), axis=2).astype('uint8'))"
   ]
  },
  {
   "cell_type": "code",
   "execution_count": null,
   "metadata": {},
   "outputs": [],
   "source": [
    "gray = 1.0*utils.autogain(bf2, percentile=.01)[:, :, None]\n",
    "blue = 1.0*utils.autogain(dapi.max(axis=0), percentile=1)[:, :, None]\n",
    "skimage.transform.\n",
    "viz.imshow(utils.autogain(np.concatenate((gray + 1*blue, gray, gray), axis=2)))"
   ]
  },
  {
   "cell_type": "code",
   "execution_count": null,
   "metadata": {},
   "outputs": [],
   "source": [
    "viz.imshow(skimage.filters.gaussian(bf1, sigma=3))"
   ]
  },
  {
   "cell_type": "code",
   "execution_count": null,
   "metadata": {},
   "outputs": [],
   "source": []
  }
 ],
 "metadata": {
  "kernelspec": {
   "display_name": "sklearnenv",
   "language": "python",
   "name": "sklearnenv"
  },
  "language_info": {
   "codemirror_mode": {
    "name": "ipython",
    "version": 3
   },
   "file_extension": ".py",
   "mimetype": "text/x-python",
   "name": "python",
   "nbconvert_exporter": "python",
   "pygments_lexer": "ipython3",
   "version": "3.7.3"
  }
 },
 "nbformat": 4,
 "nbformat_minor": 2
}
