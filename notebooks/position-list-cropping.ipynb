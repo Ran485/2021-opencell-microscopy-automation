{
 "cells": [
  {
   "cell_type": "code",
   "execution_count": null,
   "metadata": {
    "scrolled": false
   },
   "outputs": [],
   "source": [
    "import os\n",
    "import re\n",
    "import sys\n",
    "import json\n",
    "import numpy as np\n",
    "\n",
    "from scipy import interpolate\n",
    "from matplotlib import pyplot as plt\n",
    "\n",
    "sys.path.insert(0, '..')\n",
    "from dragonfly_automation import operations, utils\n",
    "from dragonfly_automation.gateway import gateway_utils\n",
    "\n",
    "%load_ext autoreload\n",
    "%autoreload 2"
   ]
  },
  {
   "cell_type": "markdown",
   "metadata": {},
   "source": [
    "### Crop an existing position list (for manual re-imaging only)\n",
    "\n",
    "Specify a list of well_ids and a number of sites per well to which to crop the list of positions. This is intended for manual redos in which the user selects, by hand, a few FOVs in a small number of wells for which no acceptable FOVs were imaged during the automated acquisition."
   ]
  },
  {
   "cell_type": "code",
   "execution_count": null,
   "metadata": {},
   "outputs": [],
   "source": [
    "# test filepath\n",
    "position_list_filepath = '/Users/keith.cheveralls/image-data/dragonfly-automation-tests/HCS_sites_20191009_INTERPOLATED.pos'"
   ]
  },
  {
   "cell_type": "code",
   "execution_count": null,
   "metadata": {},
   "outputs": [],
   "source": [
    "position_list_filepath = 'D://MLPipeline//position-lists//'"
   ]
  },
  {
   "cell_type": "code",
   "execution_count": null,
   "metadata": {
    "scrolled": false
   },
   "outputs": [],
   "source": [
    "with open(position_list_filepath, 'r') as file:\n",
    "    position_list = json.load(file)"
   ]
  },
  {
   "cell_type": "code",
   "execution_count": null,
   "metadata": {},
   "outputs": [],
   "source": [
    "well_ids = ['B9', 'G9', 'A1']\n",
    "num_sites_per_well = 4\n",
    "site_nums = range(num_sites_per_well)\n",
    "\n",
    "positions = position_list['POSITIONS']\n",
    "positions = [p for p in positions if p['LABEL'].split('-')[0] in well_ids and int(p['LABEL'].split('_')[-1]) in site_nums]"
   ]
  },
  {
   "cell_type": "code",
   "execution_count": null,
   "metadata": {},
   "outputs": [],
   "source": [
    "# check for well_ids that were not in the position_list\n",
    "missing_well_ids = set(well_ids).difference([p['LABEL'].split('-')[0] for p in positions])\n",
    "print('Warning: well_ids %s were not found in the position list' % missing_well_ids)"
   ]
  },
  {
   "cell_type": "code",
   "execution_count": null,
   "metadata": {},
   "outputs": [],
   "source": [
    "# view the position labels explicitly\n",
    "[p['LABEL'] for p in positions]"
   ]
  },
  {
   "cell_type": "code",
   "execution_count": null,
   "metadata": {},
   "outputs": [],
   "source": [
    "# save the cropped position list\n",
    "cropped_position_list = position_list.copy()\n",
    "cropped_position_list['POSITIONS'] = positions\n",
    "\n",
    "dst_filepath = position_list_filepath.replace('.pos', '_CROPPED.pos')\n",
    "with open(dst_filepath, 'w') as file:\n",
    "    json.dump(cropped_position_list, file)"
   ]
  },
  {
   "cell_type": "code",
   "execution_count": null,
   "metadata": {},
   "outputs": [],
   "source": []
  }
 ],
 "metadata": {
  "kernelspec": {
   "display_name": "sklearnenv",
   "language": "python",
   "name": "sklearnenv"
  },
  "language_info": {
   "codemirror_mode": {
    "name": "ipython",
    "version": 3
   },
   "file_extension": ".py",
   "mimetype": "text/x-python",
   "name": "python",
   "nbconvert_exporter": "python",
   "pygments_lexer": "ipython3",
   "version": "3.7.3"
  }
 },
 "nbformat": 4,
 "nbformat_minor": 2
}
