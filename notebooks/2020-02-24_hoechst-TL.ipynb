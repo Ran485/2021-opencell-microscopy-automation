{
 "cells": [
  {
   "cell_type": "code",
   "execution_count": 15,
   "metadata": {},
   "outputs": [
    {
     "name": "stdout",
     "output_type": "stream",
     "text": [
      "The autoreload extension is already loaded. To reload it, use:\n",
      "  %reload_ext autoreload\n"
     ]
    }
   ],
   "source": [
    "import os\n",
    "import re\n",
    "import sys\n",
    "import glob\n",
    "import json\n",
    "import shutil\n",
    "import skimage\n",
    "import tifffile\n",
    "import numpy as np\n",
    "import pandas as pd\n",
    "import seaborn as sns\n",
    "\n",
    "from scipy import stats\n",
    "from matplotlib import pyplot as plt\n",
    "\n",
    "%load_ext autoreload\n",
    "%autoreload 2"
   ]
  },
  {
   "cell_type": "code",
   "execution_count": 16,
   "metadata": {},
   "outputs": [],
   "source": [
    "# hack: autoscale method copied from opencell.imaging.utils\n",
    "\n",
    "def autoscale(im, percentile=None, p=None, dtype='uint8', gamma=None):\n",
    "\n",
    "    max_values = {'float': 1.0, 'uint8': 255, 'uint16': 65535}\n",
    "\n",
    "    if p is not None:\n",
    "        percentile = p\n",
    "    if percentile is None:\n",
    "        percentile = 0\n",
    "\n",
    "    im = im.copy().astype(float)\n",
    "    minn, maxx = np.percentile(im, (percentile, 100 - percentile))\n",
    "    if minn == maxx:\n",
    "        return (im * 0).astype(dtype)\n",
    "\n",
    "    im = im - minn\n",
    "    im[im < 0] = 0\n",
    "    im = im/(maxx - minn)\n",
    "    im[im > 1] = 1\n",
    "    if gamma is not None:\n",
    "        im = im**gamma\n",
    "\n",
    "    im = (im * max_values[dtype]).astype(dtype)\n",
    "    return im"
   ]
  },
  {
   "cell_type": "code",
   "execution_count": 17,
   "metadata": {},
   "outputs": [],
   "source": [
    "def parse_filename(filename):\n",
    "    result = re.findall('^_1_MMStack_([A-H][0-9]{1,2})-Site_([0-9]).ome.tif$', filename)\n",
    "    if not result:\n",
    "        return None\n",
    "    return result[0]"
   ]
  },
  {
   "cell_type": "code",
   "execution_count": 18,
   "metadata": {},
   "outputs": [],
   "source": [
    "root_dir = (\n",
    "    '/Users/keith.cheveralls/image-data/exps-with-preethi/'\n",
    "    '2020-02-21-hoechst-titration-timelapse'\n",
    ")\n",
    "\n",
    "def construct_filename(well_id, site_num):\n",
    "    filename = '_1_MMStack_%s-Site_%d.ome.tif' % (well_id, site_num)\n",
    "    return os.path.join(root_dir, filename)"
   ]
  },
  {
   "cell_type": "code",
   "execution_count": 19,
   "metadata": {},
   "outputs": [],
   "source": [
    "def get_filename(stain, spike, rep, site_num):\n",
    "\n",
    "    platemap = {\n",
    "        (0, 20): ('B4', 'B5'),\n",
    "        (0, 100): ('B6', 'B7'),\n",
    "        \n",
    "        (2, 0): ('C2', 'C3'),\n",
    "        (2, 20): ('C4', 'C5'),\n",
    "        (2, 100): ('C6', 'C7'),\n",
    "        \n",
    "        (5, 0): ('D2', 'D3'),\n",
    "        (5, 20): ('D4', 'D5'),\n",
    "        (5, 100): ('D6', 'D7'),\n",
    "        \n",
    "        (10, 0): ('E2', 'E3'),\n",
    "        (10, 20): ('E4', 'E5'),\n",
    "        (10, 100): ('E6', 'E7'),\n",
    "    }\n",
    "    \n",
    "    well_ids = platemap.get((stain, spike))\n",
    "    if not well_ids:\n",
    "        return None\n",
    "\n",
    "    filepath = construct_filename(well_ids[rep], site_num)\n",
    "    if not os.path.isfile(filepath):\n",
    "        return None\n",
    "    return filepath"
   ]
  },
  {
   "cell_type": "code",
   "execution_count": 20,
   "metadata": {},
   "outputs": [
    {
     "data": {
      "text/plain": [
       "50"
      ]
     },
     "execution_count": 20,
     "metadata": {},
     "output_type": "execute_result"
    }
   ],
   "source": [
    "filepaths = glob.glob('%s/*' % root_dir)\n",
    "len(filepaths)"
   ]
  },
  {
   "cell_type": "code",
   "execution_count": 21,
   "metadata": {},
   "outputs": [
    {
     "data": {
      "text/plain": [
       "(144, 1024, 1024)"
      ]
     },
     "execution_count": 21,
     "metadata": {},
     "output_type": "execute_result"
    }
   ],
   "source": [
    "tifffile.imread(get_filename(0, 100, 0, 0)).shape"
   ]
  },
  {
   "cell_type": "code",
   "execution_count": 22,
   "metadata": {},
   "outputs": [
    {
     "data": {
      "text/plain": [
       "'/Users/keith.cheveralls/image-data/exps-with-preethi/2020-02-21-hoechst-titration-timelapse/_1_MMStack_B6-Site_0.ome.tif'"
      ]
     },
     "execution_count": 22,
     "metadata": {},
     "output_type": "execute_result"
    }
   ],
   "source": [
    "get_filename(0, 100, 0, 0)"
   ]
  },
  {
   "cell_type": "code",
   "execution_count": null,
   "metadata": {},
   "outputs": [],
   "source": [
    "border_width = 10\n",
    "\n",
    "def load_stack(stain, spike, rep, site):\n",
    "    filepath = get_filename(stain, spike, rep, site)\n",
    "    if not filepath:\n",
    "        return None\n",
    "\n",
    "    im = tifffile.imread(filepath)\n",
    "    if im.ndim == 3: \n",
    "        im_sz = 1024\n",
    "        numc, numz = 2, 3\n",
    "        numt = int(im.shape[0]/numc/numz)\n",
    "        im = np.reshape(im, (numt, numc, numz, im_sz, im_sz))\n",
    "    improj = im.max(axis=2)\n",
    "    return improj\n",
    "    \n",
    "    \n",
    "def concat_timepoints(improj, ti, tf, autoscale='each'):\n",
    "    '''\n",
    "    Concat two time points side-by-side\n",
    "    '''\n",
    "    gamma = .7\n",
    "    percentile = 1\n",
    "    border = np.zeros((1024, border_width), dtype=dtype) + white\n",
    "    if autoscale == 'each':\n",
    "        tile = np.concatenate((\n",
    "            autoscale(improj[ti, 0, ...], p=percentile, gamma=gamma),\n",
    "            border,\n",
    "            autoscale(improj[tf, 0, ...], p=percentile, gamma=gamma),\n",
    "        ), axis=1) \n",
    "    elif autoscale == 'both':\n",
    "        tile = autoscale(\n",
    "            np.concatenate((improj[ti, 0, ...], border, improj[tf, 0, ...]), axis=1),\n",
    "            p=percentile, gamma=gamma)\n",
    "    elif autoscale == 'none':\n",
    "        tile = np.concatenate((improj[ti, 0, ...], border, improj[tf, 0, ...]), axis=1)\n",
    "    return tile\n",
    "\n",
    "\n",
    "def concat_reps(stain, spike, ti, tf, site=0, autoscale='each'):\n",
    "    '''\n",
    "    concat the concated timepoints from two reps vertically \n",
    "    '''\n",
    "    border = np.zeros((border_width, 1024*2 + border_width), dtype=dtype) + white\n",
    "    improj0 = load_stack(stain, spike, rep=0, site=site)\n",
    "    improj1 = load_stack(stain, spike, rep=1, site=site)\n",
    "    if improj0 is None or improj1 is None:\n",
    "        return None\n",
    "    \n",
    "    tile0 = concat_timepoints(improj0, ti=ti, tf=tf, autoscale=autoscale)\n",
    "    tile1 = concat_timepoints(improj1, ti=ti, tf=tf, autoscale=autoscale)\n",
    "    tile = np.concatenate((tile0, border, tile1), axis=0)\n",
    "    return tile"
   ]
  },
  {
   "cell_type": "code",
   "execution_count": null,
   "metadata": {},
   "outputs": [],
   "source": [
    "autoscale = 'each'\n",
    "\n",
    "if autoscale == 'none':\n",
    "    dtype = 'uint16'\n",
    "    white = 65535\n",
    "else:\n",
    "    dtype = 'uint8'\n",
    "    white = 255"
   ]
  },
  {
   "cell_type": "code",
   "execution_count": null,
   "metadata": {},
   "outputs": [],
   "source": [
    "plt.figure(figsize=(12,12))\n",
    "plt.imshow(concat_reps(0, 20, 0, 16, site=0, autoscale=autoscale), cmap='gray', vmax=5000)"
   ]
  },
  {
   "cell_type": "code",
   "execution_count": null,
   "metadata": {},
   "outputs": [],
   "source": [
    "ti = 0\n",
    "tf = 24\n",
    "\n",
    "fig, axs = plt.subplots(4, 3, figsize=(18, 24))\n",
    "\n",
    "counter = 0\n",
    "for row_ind, stain in enumerate([0, 2, 5, 10]):\n",
    "    for col_ind, spike in enumerate([0, 20, 100]):\n",
    "        ax = axs[row_ind][col_ind]\n",
    "        tile = concat_reps(stain, spike, ti=0, tf=16, autoscale=autoscale)\n",
    "        if tile is not None:\n",
    "            ax.imshow(tile, cmap='gray') #, vmin=500, vmax=4000)\n",
    "        else:\n",
    "            ax.imshow(np.zeros((1024*2 + border_width, 1024*2 + border_width), dtype='uint8'), cmap='gray')\n",
    "        ax.set_xticks([])\n",
    "        ax.set_yticks([])\n",
    "        ax.set_title('1:%d  | 1:%d' % (stain*1000, spike*1000))\n",
    "\n",
    "plt.subplots_adjust(left=0, bottom=.01, right=.99, top=.98, wspace=.1, hspace=.15)\n",
    "plt.savefig(os.path.join(root_dir, 'tile-reps_site=0_ti=%d_tf=%d_autoscale=%s_gamma=0.7.pdf' % (ti, tf, autoscale)))"
   ]
  },
  {
   "cell_type": "code",
   "execution_count": null,
   "metadata": {},
   "outputs": [],
   "source": [
    "# plot a single tile\n",
    "improj = load_stack(10, 100, rep=0, site=0)\n",
    "tile = construct_tile(improj, ti=0, tf=-1, axis=1)\n",
    "plt.figure(figsize=(18, 18))\n",
    "plt.imshow(tile, cmap='gray')"
   ]
  },
  {
   "cell_type": "code",
   "execution_count": null,
   "metadata": {},
   "outputs": [],
   "source": [
    "# save z-projections\n",
    "rep = 0\n",
    "site = 0\n",
    "for row_ind, stain in enumerate([0, 2, 5, 10]):\n",
    "    for col_ind, spike in enumerate([0, 20, 100]):\n",
    "        improj = load_stack(stain, spike, rep=rep, site=site)\n",
    "        if improj is None:\n",
    "            continue\n",
    "        for t in [23,]:\n",
    "            filename = 'z-proj-hoechst | stain=%d | spike=%d | t=%d | rep=%d | site=%d.tif' % (stain, spike, t, rep, site)\n",
    "            tifffile.imsave(os.path.join(root_dir, 'figures', 'z-projections', filename), improj[t, 0, ...])"
   ]
  },
  {
   "cell_type": "code",
   "execution_count": null,
   "metadata": {},
   "outputs": [],
   "source": []
  }
 ],
 "metadata": {
  "kernelspec": {
   "display_name": "sklearnenv",
   "language": "python",
   "name": "sklearnenv"
  },
  "language_info": {
   "codemirror_mode": {
    "name": "ipython",
    "version": 3
   },
   "file_extension": ".py",
   "mimetype": "text/x-python",
   "name": "python",
   "nbconvert_exporter": "python",
   "pygments_lexer": "ipython3",
   "version": "3.7.3"
  }
 },
 "nbformat": 4,
 "nbformat_minor": 2
}
