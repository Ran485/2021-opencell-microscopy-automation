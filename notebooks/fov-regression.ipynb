{
 "cells": [
  {
   "cell_type": "code",
   "execution_count": null,
   "metadata": {},
   "outputs": [],
   "source": [
    "import os\n",
    "import re\n",
    "import git\n",
    "import sys\n",
    "import glob\n",
    "import json\n",
    "import joblib\n",
    "import sklearn\n",
    "import skimage\n",
    "import tifffile\n",
    "import imageio\n",
    "import numpy as np\n",
    "import pandas as pd\n",
    "import seaborn as sns\n",
    "\n",
    "import dask\n",
    "import dask.diagnostics\n",
    "\n",
    "import sklearn.cluster\n",
    "import sklearn.ensemble\n",
    "import sklearn.model_selection\n",
    "\n",
    "from scipy import ndimage\n",
    "from skimage import feature\n",
    "from skimage import morphology\n",
    "\n",
    "import matplotlib\n",
    "from matplotlib import pyplot as plt\n",
    "from matplotlib import colors as mplcolors"
   ]
  },
  {
   "cell_type": "code",
   "execution_count": null,
   "metadata": {},
   "outputs": [],
   "source": [
    "def printr(s):\n",
    "    sys.stdout.write('\\r%s' % s)"
   ]
  },
  {
   "cell_type": "code",
   "execution_count": null,
   "metadata": {},
   "outputs": [],
   "source": [
    "sys.path.append('/Users/keith.cheveralls/projects/opencell-process/')\n",
    "from pipeline_process.imaging import utils, viz\n",
    "\n",
    "sys.path.append('/Users/keith.cheveralls/projects/dragonfly-automation/')\n",
    "import dragonfly_automation.utils\n",
    "from dragonfly_automation.fov_models import PipelineFOVScorer"
   ]
  },
  {
   "cell_type": "code",
   "execution_count": null,
   "metadata": {},
   "outputs": [],
   "source": [
    "%load_ext autoreload\n",
    "%autoreload 2"
   ]
  },
  {
   "cell_type": "code",
   "execution_count": null,
   "metadata": {},
   "outputs": [],
   "source": [
    "plt.rcParams[\"patch.force_edgecolor\"] = False\n",
    "sns.set_style(\"whitegrid\", {'axes.grid' : False})"
   ]
  },
  {
   "cell_type": "markdown",
   "metadata": {},
   "source": [
    "### Directories of manually-sorted FOVs "
   ]
  },
  {
   "cell_type": "code",
   "execution_count": null,
   "metadata": {},
   "outputs": [],
   "source": [
    "training_dirpaths = [\n",
    "    '/Users/keith.cheveralls/image-data/dragonfly-automation-tests/20190910-snaps-sorted/',\n",
    "    '/Users/keith.cheveralls/image-data/dragonfly-automation-tests/20191003-snaps-sorted/',\n",
    "    '/Users/keith.cheveralls/image-data/PlateMicroscopyProjections-uint8-all-DAPI-sorted/'\n",
    "]"
   ]
  },
  {
   "cell_type": "markdown",
   "metadata": {},
   "source": [
    "### Dataframes of labels from the subdirectory location of each FOV\n",
    "\n",
    "These must be re-generated whenever the sorting has been updated or edited. "
   ]
  },
  {
   "cell_type": "code",
   "execution_count": null,
   "metadata": {},
   "outputs": [],
   "source": [
    "# generate label dataframes\n",
    "for dirpath in training_dirpaths:\n",
    "\n",
    "    dfs = []\n",
    "    for label in ['good', 'bad', 'neutral', 'unsorted']:\n",
    "        filepaths = glob.glob('%s/%s/*.tif' % (dirpath, label))\n",
    "        filenames = [path.split(os.sep)[-1] for path in filepaths]\n",
    "\n",
    "        df = pd.DataFrame(\n",
    "            data={\n",
    "                'filepath': filepaths, \n",
    "                'filename': filenames, \n",
    "                'subdirectory': [label]*len(filepaths)\n",
    "            }\n",
    "        )\n",
    "        dfs.append(df)\n",
    "\n",
    "    d = pd.concat(dfs, axis=0).reset_index()[['filepath', 'filename', 'subdirectory']]\n",
    "    # d.to_csv('%s/2019-10-07-labels.csv' % dirpath, index=False)"
   ]
  },
  {
   "cell_type": "markdown",
   "metadata": {},
   "source": [
    "### Calculate features for all FOVs in each directory"
   ]
  },
  {
   "cell_type": "code",
   "execution_count": null,
   "metadata": {},
   "outputs": [],
   "source": [
    "# classifier instance to access feature calculation methods\n",
    "fc = PipelineFOVScorer(mode='training')"
   ]
  },
  {
   "cell_type": "code",
   "execution_count": null,
   "metadata": {},
   "outputs": [],
   "source": [
    "# calculate features for a single training directory\n",
    "# (note: this and the cell below were run by hand for each training_dirpath)\n",
    "dirpath = training_dirpaths[1]\n",
    "\n",
    "filepaths = []\n",
    "for label in ['good', 'bad', 'neutral', 'unsorted']:\n",
    "    filepaths.extend(glob.glob('%s/%s/*.tif' % (dirpath, label)))\n",
    "len(filepaths)"
   ]
  },
  {
   "cell_type": "code",
   "execution_count": null,
   "metadata": {},
   "outputs": [],
   "source": [
    "data = []\n",
    "for ind, filepath in enumerate(filepaths):\n",
    "    printr('%s/%s' % (ind, len(filepaths)))\n",
    "    data.append(fc.process_existing_fov(filepath))\n",
    "# pd.DataFrame(data=data).to_csv('%s/2019-10-07-features.csv' % dirpath, index=False)"
   ]
  },
  {
   "cell_type": "code",
   "execution_count": null,
   "metadata": {},
   "outputs": [],
   "source": [
    "# try using dask instead (about 10 FOVs/sec instead of 3)\n",
    "tasks = [dask.delayed(fc.process_existing_fov)(filepath) for filepath in filepaths]\n",
    "with dask.diagnostics.ProgressBar():\n",
    "    data = dask.compute(*tasks)"
   ]
  },
  {
   "cell_type": "markdown",
   "metadata": {},
   "source": [
    "### Calculate features for 'thawed' plates\n",
    "\n",
    "This is just to predict scores and assess FOV quality."
   ]
  },
  {
   "cell_type": "code",
   "execution_count": null,
   "metadata": {},
   "outputs": [],
   "source": [
    "root = '/Users/keith.cheveralls/image-data/PlateMicroscopyProjections-uint16-thawed/'\n",
    "thawed_dirpaths = glob.glob('%s/*' % root)\n",
    "(thawed_dirpaths)"
   ]
  },
  {
   "cell_type": "code",
   "execution_count": null,
   "metadata": {},
   "outputs": [],
   "source": [
    "for dirpath in thawed_dirpaths:\n",
    "    print(dirpath)\n",
    "    filepaths = glob.glob('%s/*.tif' % (dirpath))\n",
    "    filepaths = [name for name in filepaths if '_DAPI_' in name]\n",
    "    data = []\n",
    "    for filepath in filepaths:\n",
    "        data.append(fc.process_existing_fov(filepath))\n",
    "    # pd.DataFrame(data=data).to_csv('%s/2019-10-08-features.csv' % dirpath, index=False)"
   ]
  },
  {
   "cell_type": "markdown",
   "metadata": {},
   "source": [
    "### Merge features and labels and concatenate"
   ]
  },
  {
   "cell_type": "code",
   "execution_count": null,
   "metadata": {},
   "outputs": [],
   "source": [
    "fc = PipelineFOVScorer(mode='training', model_type='regression')"
   ]
  },
  {
   "cell_type": "code",
   "execution_count": null,
   "metadata": {},
   "outputs": [],
   "source": [
    "def load_and_merge(dirpath, labels_timestamp, features_timestamp):\n",
    "    labels = pd.read_csv('%s/%s-labels.csv' % (dirpath, labels_timestamp))\n",
    "    features = pd.read_csv('%s/%s-features.csv' % (dirpath, features_timestamp))\n",
    "    data = pd.merge(labels, features, left_on='filename', right_on='filename')\n",
    "    print((labels.shape, features.shape, data.shape))\n",
    "    return data"
   ]
  },
  {
   "cell_type": "code",
   "execution_count": null,
   "metadata": {},
   "outputs": [],
   "source": [
    "dfs = []\n",
    "for dirpath in training_dirpaths[:]:\n",
    "    dfs.append(load_and_merge(dirpath, '2019-10-07', '2019-10-07'))\n",
    "data = pd.concat(dfs, axis=0, sort=True)\n",
    "data.shape"
   ]
  },
  {
   "cell_type": "code",
   "execution_count": null,
   "metadata": {},
   "outputs": [],
   "source": [
    "# force inf to nan because dropna does not drop np.infs\n",
    "data = data.replace([np.inf, -np.inf], np.nan)\n",
    "\n",
    "# drop FOVs with missing features\n",
    "data = data.dropna(axis=0, how='any', subset=fc.feature_order)\n",
    "data.shape"
   ]
  },
  {
   "cell_type": "code",
   "execution_count": null,
   "metadata": {},
   "outputs": [],
   "source": [
    "# drop unsorted FOVs\n",
    "all_data = data.copy()\n",
    "data_unsorted = data.loc[data.subdirectory == 'unsorted']\n",
    "data = data.loc[data.subdirectory != 'unsorted']\n",
    "data.shape"
   ]
  },
  {
   "cell_type": "code",
   "execution_count": null,
   "metadata": {},
   "outputs": [],
   "source": [
    "# create scores\n",
    "data.replace(to_replace={\n",
    "    'good': 1,\n",
    "    'neutral': 0,\n",
    "    'bad': -1,\n",
    "}, inplace=True)\n",
    "\n",
    "data.rename(columns={'subdirectory': 'score'}, inplace=True)"
   ]
  },
  {
   "cell_type": "code",
   "execution_count": null,
   "metadata": {},
   "outputs": [],
   "source": [
    "# count labels\n",
    "data.groupby('score').num_nuclei.count()"
   ]
  },
  {
   "cell_type": "code",
   "execution_count": null,
   "metadata": {},
   "outputs": [],
   "source": [
    "# basic EDA - histograms of one feature by score\n",
    "feature = 'num_unclustered'\n",
    "bins = np.arange(0, 40, 2)\n",
    "for score in [-1, 0, 1]:\n",
    "    plt.hist(data.loc[data.score==score][feature], bins=bins, density=True, alpha=.5)"
   ]
  },
  {
   "cell_type": "code",
   "execution_count": null,
   "metadata": {},
   "outputs": [],
   "source": [
    "X = data[list(fc.feature_order)].values\n",
    "y = data['score'].values.astype(float)\n",
    "X.shape"
   ]
  },
  {
   "cell_type": "code",
   "execution_count": null,
   "metadata": {},
   "outputs": [],
   "source": [
    "# train a standalone random forest regressor\n",
    "model = sklearn.ensemble.RandomForestRegressor(\n",
    "    n_estimators=300,\n",
    "    max_features='auto',\n",
    "    oob_score=True)\n",
    "\n",
    "model.fit(X, y)\n",
    "model.oob_score_"
   ]
  },
  {
   "cell_type": "markdown",
   "metadata": {},
   "source": [
    "### Train a regression model"
   ]
  },
  {
   "cell_type": "code",
   "execution_count": null,
   "metadata": {},
   "outputs": [],
   "source": [
    "fc = PipelineFOVScorer(mode='training', model_type='regression')"
   ]
  },
  {
   "cell_type": "code",
   "execution_count": null,
   "metadata": {},
   "outputs": [],
   "source": [
    "fc.training_data = data.copy()"
   ]
  },
  {
   "cell_type": "code",
   "execution_count": null,
   "metadata": {},
   "outputs": [],
   "source": [
    "fc.train()"
   ]
  },
  {
   "cell_type": "code",
   "execution_count": null,
   "metadata": {},
   "outputs": [],
   "source": [
    "fc.current_training_metadata"
   ]
  },
  {
   "cell_type": "code",
   "execution_count": null,
   "metadata": {},
   "outputs": [],
   "source": [
    "# fc.save('../models/2019-10-08')"
   ]
  },
  {
   "cell_type": "code",
   "execution_count": null,
   "metadata": {},
   "outputs": [],
   "source": [
    "fc.load('../models/2019-10-08/')\n",
    "fc.train()\n",
    "fc.validate()"
   ]
  },
  {
   "cell_type": "code",
   "execution_count": null,
   "metadata": {},
   "outputs": [],
   "source": [
    "data['yp'] = fc.model.oob_prediction_"
   ]
  },
  {
   "cell_type": "markdown",
   "metadata": {},
   "source": [
    "### Plot predicted scores and tile FOVs by score"
   ]
  },
  {
   "cell_type": "code",
   "execution_count": null,
   "metadata": {},
   "outputs": [],
   "source": [
    "# the distribution of oob-predicted scores by actual score\n",
    "# plt.figure(figsize=(12, 6))\n",
    "yp = fc.model.oob_prediction_\n",
    "labels = {-1: 'Bad', 0: 'Mediocre', 1: 'Good'}\n",
    "for label in [-1, 0, 1]:\n",
    "    plt.hist(yp[(yp > -1) & (y==label)], bins=15, density=True, alpha=.5, edgecolor=None, label=labels[label])\n",
    "    plt.legend()\n",
    "    \n",
    "# plt.savefig('/Users/keith.cheveralls/Box/KCC-slides/2019-10-23_lab-meeting/fov-score-distribution.pdf')"
   ]
  },
  {
   "cell_type": "code",
   "execution_count": null,
   "metadata": {},
   "outputs": [],
   "source": [
    "# annotated FOVs for a given actual score, ordered/thresholded by predicted score\n",
    "# (e.g., all annotated 'bad' FOVs with a positive predicted score)\n",
    "d = data.sort_values(by='yp', ascending=False)\n",
    "tile = viz.build_tile(\n",
    "    d.loc[(d.yp < 0) & (d.score==1)], \n",
    "    shape=(10, 5), \n",
    "    figsize=16, \n",
    "    offset=0,\n",
    "    show_labels=True, label_column='yp', label_format='%0.2f')"
   ]
  },
  {
   "cell_type": "code",
   "execution_count": null,
   "metadata": {},
   "outputs": [],
   "source": [
    "# imageio.imsave('/Users/keith.cheveralls/Box/KCC-slides/2019-10-23_lab-meeting/FOV-tile_actual-score-good_pred-score-le-zero.png', tile)"
   ]
  },
  {
   "cell_type": "code",
   "execution_count": null,
   "metadata": {},
   "outputs": [],
   "source": [
    "# one-dimension array of FOVs from bad to good (for lab meeting)\n",
    "d = data.sort_values(by='yp', ascending=False)\n",
    "tile = viz.build_tile(\n",
    "    d.iloc[3::200],#.sort_values(by='yp'), \n",
    "    shape=(1, 16), \n",
    "    figsize=16, \n",
    "    offset=0,\n",
    "    show_labels=False, label_column='yp', label_format='%0.2f')"
   ]
  },
  {
   "cell_type": "code",
   "execution_count": null,
   "metadata": {},
   "outputs": [],
   "source": [
    "# tifffile.imsave('/Users/keith.cheveralls/Box/KCC-slides/2019-10-23_lab-meeting/FOVs-bad-to-good.tif', tile)"
   ]
  },
  {
   "cell_type": "markdown",
   "metadata": {},
   "source": [
    "### Predict scores for unsorted FOVs"
   ]
  },
  {
   "cell_type": "code",
   "execution_count": null,
   "metadata": {},
   "outputs": [],
   "source": [
    "# predicted scores for unsorted FOVs\n",
    "X = data_unsorted[list(fc.feature_order)].values\n",
    "yp = fc.model.predict(X)\n",
    "data_unsorted['yp'] = yp"
   ]
  },
  {
   "cell_type": "code",
   "execution_count": null,
   "metadata": {},
   "outputs": [],
   "source": [
    "# unsorted FOVs ordered by predicted score\n",
    "d = data_unsorted.sort_values(by='yp', ascending=False)\n",
    "tile = viz.build_tile(\n",
    "    d.loc[(d.yp < -.50)], \n",
    "    shape=(16, 16), \n",
    "    figsize=16, \n",
    "    offset=0,\n",
    "    show_labels=True, label_column='yp', label_format='%0.2f')"
   ]
  },
  {
   "cell_type": "code",
   "execution_count": null,
   "metadata": {},
   "outputs": [],
   "source": [
    "# unsorted FOVs ordered by predicted score\n",
    "d = data_unsorted.sort_values(by='yp', ascending=False)\n",
    "\n",
    "bad = (d.yp < -.7)\n",
    "neutral = (d.yp > -.25) & (d.yp < 0)\n",
    "good = d.yp > .7\n",
    "\n",
    "tile = viz.build_tile(\n",
    "    d.loc[good], \n",
    "    shape=(10, 10), \n",
    "    figsize=16, \n",
    "    offset=0,\n",
    "    show_labels=True, label_column='yp', label_format='%0.2f')"
   ]
  },
  {
   "cell_type": "markdown",
   "metadata": {},
   "source": [
    "### Distribution of scores by plate"
   ]
  },
  {
   "cell_type": "code",
   "execution_count": null,
   "metadata": {},
   "outputs": [],
   "source": [
    "# all data (where yp is from the oob_score_ for the training data, and from model.prefict for unsorted data)\n",
    "all_data = pd.concat((data, data_unsorted), axis=0, sort=True)\n",
    "all_data = all_data.reset_index()"
   ]
  },
  {
   "cell_type": "code",
   "execution_count": null,
   "metadata": {},
   "outputs": [],
   "source": [
    "plate_dirs = glob.glob('/Users/keith.cheveralls/image-data/PlateMicroscopyProjections-uint16/*')\n",
    "plate_filenames = {}\n",
    "for plate_dir in plate_dirs:\n",
    "    plate_id = int(plate_dir.split(os.sep)[-1].replace('mNG96wp', ''))\n",
    "    filepaths = glob.glob('%s/*.tif' % plate_dir)\n",
    "    filenames = [f.split(os.sep)[-1] for f in filepaths]\n",
    "    plate_filenames[plate_id] = filenames\n",
    "    \n",
    "all_data['plate_id'] = None\n",
    "for ind, row in all_data.iterrows():\n",
    "    for plate_id, filenames in plate_filenames.items():\n",
    "        if row.filename in filenames:\n",
    "            all_data.at[ind, 'plate_id'] = plate_id\n",
    "            continue"
   ]
  },
  {
   "cell_type": "code",
   "execution_count": null,
   "metadata": {},
   "outputs": [],
   "source": [
    "all_data.plate_id.unique()"
   ]
  },
  {
   "cell_type": "code",
   "execution_count": null,
   "metadata": {},
   "outputs": [],
   "source": [
    "all_data.plate_id.isna().sum()"
   ]
  },
  {
   "cell_type": "code",
   "execution_count": null,
   "metadata": {},
   "outputs": [],
   "source": [
    "all_data.groupby('plate_id').count()"
   ]
  },
  {
   "cell_type": "markdown",
   "metadata": {},
   "source": [
    "### Distribution of scores for all plates (1-19 plus 1-5 thawed)"
   ]
  },
  {
   "cell_type": "code",
   "execution_count": null,
   "metadata": {},
   "outputs": [],
   "source": [
    "dfs = []\n",
    "for dirpath in thawed_dirpaths:\n",
    "    d = pd.read_csv('%s/2019-10-08-features.csv' % dirpath)\n",
    "    d['plate_id'] = '%d-thawed' % int(dirpath.split(os.sep)[-1].replace('_Thawed', '').replace('mNG96wp', ''))\n",
    "    dfs.append(d)\n",
    "    \n",
    "data_thawed = pd.concat(dfs, axis=0, sort=True)\n",
    "data_thawed.shape"
   ]
  },
  {
   "cell_type": "code",
   "execution_count": null,
   "metadata": {},
   "outputs": [],
   "source": [
    "data_thawed = data_thawed.replace([np.inf, -np.inf], np.nan)\n",
    "data_thawed = data_thawed.dropna(axis=0, how='any', subset=fc.feature_order)\n",
    "data_thawed.shape"
   ]
  },
  {
   "cell_type": "code",
   "execution_count": null,
   "metadata": {},
   "outputs": [],
   "source": [
    "# predicted scores for unsorted FOVs\n",
    "X = data_thawed[list(fc.feature_order)].values\n",
    "yp = fc.model.predict(X)\n",
    "data_thawed['yp'] = yp"
   ]
  },
  {
   "cell_type": "code",
   "execution_count": null,
   "metadata": {},
   "outputs": [],
   "source": [
    "# merge with 'all_data', which is from plates 1-19\n",
    "d = pd.concat((all_data, data_thawed), axis=0, sort=True)"
   ]
  },
  {
   "cell_type": "code",
   "execution_count": null,
   "metadata": {},
   "outputs": [],
   "source": [
    "d['plate_id'] = list(map(str, d.plate_id))"
   ]
  },
  {
   "cell_type": "code",
   "execution_count": null,
   "metadata": {},
   "outputs": [],
   "source": [
    "d.plate_id.unique()"
   ]
  },
  {
   "cell_type": "code",
   "execution_count": null,
   "metadata": {},
   "outputs": [],
   "source": [
    "_ = plt.hist(d.yp, bins=np.arange(-1, 1.2, .2), density=True)"
   ]
  },
  {
   "cell_type": "code",
   "execution_count": null,
   "metadata": {},
   "outputs": [],
   "source": [
    "plate_ids = [\n",
    "    [1,2,3,4,5],\n",
    "    [6,7,8,9,10],\n",
    "    [11,12,13,14,15],\n",
    "    [16,17,18,19, None],\n",
    "    ['1-thawed', '2-thawed', '3-thawed', '4-thawed', '5-thawed'],\n",
    "]\n",
    "\n",
    "fig, axs = plt.subplots(5, 5, figsize=(16, 12))\n",
    "for rind, row in enumerate(axs):\n",
    "    for cind, ax in enumerate(row):\n",
    "        plate_id = plate_ids[rind][cind]\n",
    "        if plate_id is not None:\n",
    "            plate_id = str(plate_id)\n",
    "            values = d.loc[d.plate_id==plate_id].yp.values\n",
    "            ax.hist(values, bins=np.arange(-1, 1, .2), density=True)\n",
    "            ax.set_title('Plate %s (n = %d)' % (plate_id.replace('-thawed', ' (thawed)'), len(values)))    \n",
    "\n",
    "        ax.set_ylim([0, 3])\n",
    "        ax.set_xticks([-1, -.5, 0, .5, 1])\n",
    "        ax.set_xticklabels([])\n",
    "        ax.set_yticklabels([])\n",
    "        if cind==0:\n",
    "            ax.set_ylabel('Density')\n",
    "            ax.set_yticklabels([0, 1, 2, 3])\n",
    "        if rind==len(axs)-1:\n",
    "            ax.set_xlabel('Score')\n",
    "            ax.set_xticklabels([-1, -.5, 0, .5, 1])"
   ]
  },
  {
   "cell_type": "code",
   "execution_count": null,
   "metadata": {},
   "outputs": [],
   "source": [
    "# plot the percent 'bad'\n",
    "plate_ids = list(range(1, 20)) + ['1-thawed', '2-thawed', '3-thawed', '4-thawed', '5-thawed']\n",
    "plate_id_labels = list(range(1, 20)) + ['1T', '2T', '3T', '4T', '5T']\n",
    "pbad, pgood = [], []\n",
    "for plate_id in plate_ids:\n",
    "    plate_id = str(plate_id)\n",
    "    values = d.loc[d.plate_id==plate_id].yp.values\n",
    "    pgood.append((values > .5).sum() / len(values))\n",
    "    pbad.append((values < -.5).sum() / len(values))"
   ]
  },
  {
   "cell_type": "code",
   "execution_count": null,
   "metadata": {},
   "outputs": [],
   "source": [
    "fig, ax = plt.subplots(figsize=(12, 3))\n",
    "width = 1/3\n",
    "x = np.arange(len(plate_ids))\n",
    "rects1 = ax.bar(x - width/2, np.array(pgood)*100, width, label='Predicted good')\n",
    "rects2 = ax.bar(x + width/2, np.array(pbad)*100, width, label='Predicted bad')\n",
    "\n",
    "ax.set_ylabel('Percent')\n",
    "ax.set_title('')\n",
    "ax.set_xticks(x)\n",
    "ax.set_xticklabels(map(str, plate_id_labels))\n",
    "ax.legend()\n",
    "# plt.savefig('/Users/keith.cheveralls/Box/KCC-slides/2019-10-23_lab-meeting/good-bad-by-plate.pdf')"
   ]
  },
  {
   "cell_type": "code",
   "execution_count": null,
   "metadata": {},
   "outputs": [],
   "source": [
    "dd = d.loc[d.plate_id=='15'].copy()\n",
    "dd = dd.sort_values(by='yp', ascending=False)\n",
    "dd.shape, 25*25"
   ]
  },
  {
   "cell_type": "code",
   "execution_count": null,
   "metadata": {},
   "outputs": [],
   "source": [
    "# tile the FOVs from one plate\n",
    "tile = viz.build_tile(\n",
    "    dd, \n",
    "    shape=(20, 20), \n",
    "    figsize=25, \n",
    "    offset=0,\n",
    "    show_labels=True, \n",
    "    label_column='yp', \n",
    "    label_format='%0.2f')\n",
    "\n",
    "tifffile.imsave('/Users/keith.cheveralls/image-data/all-PQ-plate15-ordered-by-score-20x20.tif', tile)"
   ]
  },
  {
   "cell_type": "code",
   "execution_count": null,
   "metadata": {},
   "outputs": [],
   "source": []
  }
 ],
 "metadata": {
  "kernelspec": {
   "display_name": "sklearnenv",
   "language": "python",
   "name": "sklearnenv"
  },
  "language_info": {
   "codemirror_mode": {
    "name": "ipython",
    "version": 3
   },
   "file_extension": ".py",
   "mimetype": "text/x-python",
   "name": "python",
   "nbconvert_exporter": "python",
   "pygments_lexer": "ipython3",
   "version": "3.7.3"
  }
 },
 "nbformat": 4,
 "nbformat_minor": 2
}
