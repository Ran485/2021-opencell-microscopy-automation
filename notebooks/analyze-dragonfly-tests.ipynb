{
 "cells": [
  {
   "cell_type": "code",
   "execution_count": 1,
   "metadata": {},
   "outputs": [],
   "source": [
    "import os\n",
    "import re\n",
    "import sys\n",
    "import glob\n",
    "import json\n",
    "import shutil\n",
    "import skimage\n",
    "import tifffile\n",
    "import numpy as np\n",
    "import pandas as pd\n",
    "import seaborn as sns\n",
    "\n",
    "from scipy import ndimage\n",
    "from matplotlib import pyplot as plt\n",
    "from matplotlib import colors as mplcolors\n",
    "\n",
    "from skimage import feature\n",
    "from skimage import morphology\n",
    "\n",
    "%load_ext autoreload\n",
    "%autoreload 2"
   ]
  },
  {
   "cell_type": "code",
   "execution_count": 3,
   "metadata": {},
   "outputs": [],
   "source": [
    "sys.path.append('/Users/keith.cheveralls/projects/opencell-process/')\n",
    "from pipeline_process.imaging import utils, viz\n",
    "\n",
    "sys.path.append('/Users/keith.cheveralls/projects/dragonfly-automation/')\n",
    "import dragonfly_automation.utils\n",
    "from dragonfly_automation.fov_classifier import FOVClassifier"
   ]
  },
  {
   "cell_type": "code",
   "execution_count": null,
   "metadata": {},
   "outputs": [],
   "source": [
    "# copy only autogained FOVs from 20190910 test to a separate directory\n",
    "# for creating manual annotations\n",
    "filepaths = glob.glob(os.path.join(log_dir, 'fov-images', '*.tif'))\n",
    "print(len(filepaths))\n",
    "\n",
    "for filepath in filepaths:\n",
    "    filename = filepath.split(os.sep)[-1]\n",
    "    new_filepath = os.path.join(out_dir, filename)\n",
    "    if 'UINT8' in filepath:\n",
    "        # shutil.copy(filepath, new_filepath)"
   ]
  },
  {
   "cell_type": "code",
   "execution_count": 4,
   "metadata": {},
   "outputs": [],
   "source": [
    "with open('/Users/keith.cheveralls/image-data/dragonfly-automation-tests/ML0196_20191009-2/HCS_sites_20191009_INTERPOLATED.pos') as file:\n",
    "    pos = json.load(file)\n",
    "\n",
    "# load an example position_list to map linear indices to well_ids\n",
    "position_inds = []\n",
    "for ind, p in enumerate(pos['POSITIONS']):\n",
    "    well_id, site_num = dragonfly_automation.utils.parse_hcs_site_label(p['LABEL'])\n",
    "    position_inds.append({'ind': ind, 'well_id': well_id})\n",
    "    \n",
    "pinds = pd.DataFrame(data=position_inds)"
   ]
  },
  {
   "cell_type": "markdown",
   "metadata": {},
   "source": [
    "### 20190910"
   ]
  },
  {
   "cell_type": "code",
   "execution_count": null,
   "metadata": {},
   "outputs": [],
   "source": [
    "# manually annotated good FOVs from 20190910\n",
    "manual_inds = [\n",
    "    52,55,\n",
    "    101,147,175\n",
    "    ,223,221,224,239,251,262,275,299,\n",
    "    329,340,375,\n",
    "    406,415,479,\n",
    "    503,523,526,539,566,570,580,597,\n",
    "    650,694,\n",
    "    705,730,736,775,\n",
    "    823,841,861,\n",
    "    920,927,934,960,983,987,999,\n",
    "    1014,1023,1034,1059,1094,\n",
    "    1121,1138,1141,1190\n",
    "]"
   ]
  },
  {
   "cell_type": "code",
   "execution_count": null,
   "metadata": {},
   "outputs": [],
   "source": [
    "log_dir = '/Users/keith.cheveralls/image-data/dragonfly-automation-tests/20190910/ML0000_20190910-3/logs/confluency-check'\n",
    "out_dir = '/Users/keith.cheveralls/image-data/dragonfly-automation-tests/20190910-snaps-only/'"
   ]
  },
  {
   "cell_type": "code",
   "execution_count": null,
   "metadata": {},
   "outputs": [],
   "source": [
    "# classification log\n",
    "log = pd.read_csv(os.path.join(log_dir, 'confluency-check-log.csv'))\n",
    "\n",
    "# fix the filepaths in the classification log\n",
    "log['filename'] = [os.path.join(log_dir, 'confluency-snaps', name) for name in log.snap_filename]"
   ]
  },
  {
   "cell_type": "code",
   "execution_count": null,
   "metadata": {},
   "outputs": [],
   "source": [
    "log.head()"
   ]
  },
  {
   "cell_type": "code",
   "execution_count": null,
   "metadata": {},
   "outputs": [],
   "source": [
    "# all manual\n",
    "tile = viz.build_tile(\n",
    "    log.loc[log.position_ind.isin(manual_inds)], \n",
    "    shape=(5, 12), figsize=18)"
   ]
  },
  {
   "cell_type": "code",
   "execution_count": null,
   "metadata": {},
   "outputs": [],
   "source": [
    "# all prediction\n",
    "tile = viz.build_tile(log.loc[log.confluency_is_good], shape=(6, 12), figsize=18)"
   ]
  },
  {
   "cell_type": "code",
   "execution_count": null,
   "metadata": {},
   "outputs": [],
   "source": [
    "# in manual and prediction\n",
    "inds = np.array(list(set(prediction_inds).intersection(manual_inds)))\n",
    "tile = viz.build_tile(log.loc[log.position_ind.isin(inds)], shape=(2, 10), figsize=18)"
   ]
  },
  {
   "cell_type": "code",
   "execution_count": null,
   "metadata": {},
   "outputs": [],
   "source": [
    "# in prediction but not in manual\n",
    "inds = np.array(list(set(prediction_inds).difference(manual_inds)))\n",
    "tile = viz.build_tile(log.loc[log.position_ind.isin(inds)], shape=(5, 10), figsize=18)"
   ]
  },
  {
   "cell_type": "code",
   "execution_count": null,
   "metadata": {},
   "outputs": [],
   "source": [
    "# in manual but not in prediction\n",
    "inds = np.array(list(set(manual_inds).difference(prediction_inds)))\n",
    "tile = viz.build_tile(log.loc[log.position_ind.isin(inds)], shape=(4, 10), figsize=18)"
   ]
  },
  {
   "cell_type": "code",
   "execution_count": null,
   "metadata": {},
   "outputs": [],
   "source": []
  },
  {
   "cell_type": "markdown",
   "metadata": {},
   "source": [
    "### 2019-10-03\n",
    "\n",
    "This was the first half of Plate11. The test was successful but the data was rendered useless by the acquire_snap bug that caused the scored/analyzed FOVs to lag one behind the current position.\n",
    "\n",
    "This was the last test prior to the major change from per-FOV classification to per-well FOV scoring."
   ]
  },
  {
   "cell_type": "code",
   "execution_count": null,
   "metadata": {},
   "outputs": [],
   "source": [
    "log_dir = '/Users/keith.cheveralls/image-data/dragonfly-automation-tests/20191003/ML0000_20191003-3/logs/fov-classification/'\n",
    "out_dir = '/Users/keith.cheveralls/image-data/dragonfly-automation-tests/20191003-snaps-only/'"
   ]
  },
  {
   "cell_type": "code",
   "execution_count": null,
   "metadata": {},
   "outputs": [],
   "source": [
    "# classification log\n",
    "log = pd.read_csv(os.path.join(log_dir, 'fov-classification-log.csv'))\n",
    "\n",
    "# fix the filepaths in the classification log\n",
    "filepaths = log.image_filepath.values\n",
    "log['filename'] = [os.path.join(log_dir, 'fov-images', path.split('\\\\')[-1]) for path in filepaths]"
   ]
  },
  {
   "cell_type": "code",
   "execution_count": null,
   "metadata": {},
   "outputs": [],
   "source": [
    "log.head()"
   ]
  },
  {
   "cell_type": "code",
   "execution_count": null,
   "metadata": {},
   "outputs": [],
   "source": [
    "prediction_inds = log.loc[log.decision].position_ind.values\n",
    "len(prediction_inds)"
   ]
  },
  {
   "cell_type": "code",
   "execution_count": null,
   "metadata": {},
   "outputs": [],
   "source": [
    "# all prediction\n",
    "tile = viz.build_tile(log.loc[log.position_ind.isin(prediction_inds)], shape=(6, 12), figsize=18)"
   ]
  },
  {
   "cell_type": "markdown",
   "metadata": {},
   "source": [
    "### ML0196 (2019-10-09)\n",
    "\n",
    "This is the first half of plate11 (again). This was the first test that used the FOV score-regression model and visited and scored all positions in each well first before acquiring stacks. \n",
    "\n",
    "This was also the first test that was retroactively assigned an ML ID and called/considered a 'real' or 'production' imaging experiment. \n",
    "\n",
    "Note that the second half of Plate11 was not imaged (we jumped 'ahead' in order of the thawing for mass spec prep to the first half of Plate10)."
   ]
  },
  {
   "cell_type": "code",
   "execution_count": 55,
   "metadata": {},
   "outputs": [],
   "source": [
    "log_dir = '/Users/keith.cheveralls/image-data/dragonfly-automation-tests/ML0196_20191009-2/logs/'\n",
    "\n",
    "log = pd.read_csv(os.path.join(log_dir, 'fov-classification', 'fov-classification-log.csv'))\n",
    "aqlog = pd.read_csv(os.path.join(log_dir, 'ML0000_20191009-2_acquired-images.csv'))\n",
    "\n",
    "# fix the filepaths in the classification log\n",
    "filepaths = log.image_filepath.values\n",
    "log['filename'] = [os.path.join(log_dir, 'fov-classification', 'fov-images', path.split('\\\\')[-1]) for path in filepaths]"
   ]
  },
  {
   "cell_type": "code",
   "execution_count": 42,
   "metadata": {},
   "outputs": [
    {
     "data": {
      "text/plain": [
       "(1200, 291, 161, 180.0)"
      ]
     },
     "execution_count": 42,
     "metadata": {},
     "output_type": "execute_result"
    }
   ],
   "source": [
    "# numbers: total FOVs, score > -.5, score > 0, acquired FOVS\n",
    "log.shape[0], (log.score > -.5).sum(), (log.score > 0).sum(), aqlog.shape[0]/2"
   ]
  },
  {
   "cell_type": "code",
   "execution_count": null,
   "metadata": {},
   "outputs": [],
   "source": [
    "aqlog.head()"
   ]
  },
  {
   "cell_type": "code",
   "execution_count": null,
   "metadata": {},
   "outputs": [],
   "source": [
    "# exposure times by position_ind\n",
    "plt.scatter(aqlog.position_ind[1::2], aqlog.exposure_time[1::2])"
   ]
  },
  {
   "cell_type": "code",
   "execution_count": null,
   "metadata": {},
   "outputs": [],
   "source": [
    "# numbers: total FOVs, score > -.5, score > 0, acquired FOVS\n",
    "log.shape[0], (log.score > -.5).sum(), (log.score > 0).sum(), aqlog.shape[0]/2"
   ]
  },
  {
   "cell_type": "code",
   "execution_count": null,
   "metadata": {},
   "outputs": [],
   "source": [
    "# check that all acquired positions had scores above -0.5 (the threshold we used)\n",
    "set(aqlog.position_ind).difference(log.loc[log.score > -.5].position_ind)"
   ]
  },
  {
   "cell_type": "code",
   "execution_count": null,
   "metadata": {},
   "outputs": [],
   "source": [
    "# distribution of scores (all and acquired)\n",
    "bins = np.arange(-1, 1, .2)\n",
    "_ = plt.hist(log.score, bins=bins, density=True)\n",
    "_ = plt.hist(log.loc[log.position_ind.isin(aqlog.position_ind)].score, bins=bins, density=True, alpha=.5)"
   ]
  },
  {
   "cell_type": "code",
   "execution_count": null,
   "metadata": {},
   "outputs": [],
   "source": [
    "# number of FOVs per well\n",
    "d = aqlog.groupby('well_id').count().reset_index()\n",
    "plt.figure(figsize=(12, 2))\n",
    "plt.plot(d.well_id, d.timestamp/2)\n",
    "plt.gca().set_ylim([0, 7])"
   ]
  },
  {
   "cell_type": "code",
   "execution_count": 56,
   "metadata": {},
   "outputs": [
    {
     "data": {
      "text/plain": [
       "[<matplotlib.lines.Line2D at 0x7ffcd496e780>]"
      ]
     },
     "execution_count": 56,
     "metadata": {},
     "output_type": "execute_result"
    },
    {
     "data": {
      "image/png": "[encoded data removed]",
      "text/plain": [
       "<Figure size 864x144 with 1 Axes>"
      ]
     },
     "metadata": {
      "needs_background": "light"
     },
     "output_type": "display_data"
    }
   ],
   "source": [
    "d = pd.merge(pinds, log, left_on='ind', right_on='position_ind')\n",
    "d = d.groupby('well_id').max().reset_index()\n",
    "plt.figure(figsize=(12, 2))\n",
    "plt.plot(d.well_id, d.score)\n",
    "# plt.gca().set_ylim([0, 7])"
   ]
  },
  {
   "cell_type": "code",
   "execution_count": null,
   "metadata": {},
   "outputs": [],
   "source": [
    "# tile acquired FOVs\n",
    "tile = viz.build_tile(\n",
    "    log.loc[log.position_ind.isin(aqlog.position_ind)].sort_values(by='score'), \n",
    "    shape=(16, 16), \n",
    "    figsize=24, \n",
    "    offset=0, \n",
    "    show_labels=True, \n",
    "    label_column='score')"
   ]
  },
  {
   "cell_type": "code",
   "execution_count": null,
   "metadata": {},
   "outputs": [],
   "source": [
    "# tile FOVs with a certain score\n",
    "tile = viz.build_tile(\n",
    "    log.loc[log.score < -.5].sort_values(by='score', ascending=False), \n",
    "    shape=(20, 16), \n",
    "    figsize=24, \n",
    "    offset=320*0, \n",
    "    show_labels=True, \n",
    "    label_column='score')"
   ]
  },
  {
   "cell_type": "markdown",
   "metadata": {},
   "source": [
    "### ML0197 (2019-10-23)\n",
    "\n",
    "This is the first half of Plate10. "
   ]
  },
  {
   "cell_type": "code",
   "execution_count": 53,
   "metadata": {},
   "outputs": [],
   "source": [
    "log_dir = '/Users/keith.cheveralls/image-data/dragonfly-automation-tests/ML0197_20191023-4/logs/'\n",
    "\n",
    "log = pd.read_csv(os.path.join(log_dir, 'fov-classification', 'fov-classification-log.csv'))\n",
    "aqlog = pd.read_csv(os.path.join(log_dir, 'ML0000_20191023-4_acquired-images.csv'))\n",
    "afclog = pd.read_csv(os.path.join(log_dir, 'ML0000_20191023-4_afc-calls.csv'))\n",
    "\n",
    "filepaths = log.image_filepath.values\n",
    "log['filename'] = [os.path.join(log_dir, 'fov-classification', 'fov-images', path.split('\\\\')[-1]) for path in filepaths]"
   ]
  },
  {
   "cell_type": "code",
   "execution_count": 38,
   "metadata": {},
   "outputs": [
    {
     "data": {
      "text/plain": [
       "(1200, 307, 182, 186.0)"
      ]
     },
     "execution_count": 38,
     "metadata": {},
     "output_type": "execute_result"
    }
   ],
   "source": [
    "# numbers: total FOVs, score > -.5, score > 0, acquired FOVS\n",
    "log.shape[0], (log.score > -.5).sum(), (log.score > 0).sum(), aqlog.shape[0]/2"
   ]
  },
  {
   "cell_type": "code",
   "execution_count": 39,
   "metadata": {},
   "outputs": [
    {
     "data": {
      "text/plain": [
       "((1478, 7), 1478)"
      ]
     },
     "execution_count": 39,
     "metadata": {},
     "output_type": "execute_result"
    }
   ],
   "source": [
    "afclog.shape, afclog.afc_error.isna().sum()"
   ]
  },
  {
   "cell_type": "code",
   "execution_count": null,
   "metadata": {},
   "outputs": [],
   "source": [
    "plt.scatter(afclog.focusdrive_position_before, afclog.focusdrive_position_after)"
   ]
  },
  {
   "cell_type": "code",
   "execution_count": null,
   "metadata": {},
   "outputs": [],
   "source": [
    "_ = plt.hist(afclog.focusdrive_position_after - afclog.focusdrive_position_before, bins=10)"
   ]
  },
  {
   "cell_type": "code",
   "execution_count": null,
   "metadata": {},
   "outputs": [],
   "source": [
    "_ = plt.hist(afclog.score_before, alpha=.5, bins=np.linspace(-200, 200, 50))\n",
    "# _ = plt.hist(afclog.score_after, alpha=.5, bins=np.linspace(-200, 200, 50))"
   ]
  },
  {
   "cell_type": "code",
   "execution_count": null,
   "metadata": {},
   "outputs": [],
   "source": [
    "plt.scatter(\n",
    "    afclog.focusdrive_position_after - afclog.focusdrive_position_before,\n",
    "    afclog.score_before,\n",
    "    alpha=.5)\n",
    "\n",
    "plt.gca().set_ylim([-200, 200])"
   ]
  },
  {
   "cell_type": "code",
   "execution_count": null,
   "metadata": {},
   "outputs": [],
   "source": [
    "afclog.loc[afclog.score_before < -1e3]"
   ]
  },
  {
   "cell_type": "code",
   "execution_count": null,
   "metadata": {},
   "outputs": [],
   "source": [
    "# number of FOVs per well\n",
    "d = aqlog.groupby('well_id').count().reset_index()\n",
    "plt.figure(figsize=(12, 2))\n",
    "plt.plot(d.well_id, d.timestamp/2)\n",
    "plt.gca().set_ylim([0, 7])"
   ]
  },
  {
   "cell_type": "code",
   "execution_count": 54,
   "metadata": {},
   "outputs": [
    {
     "data": {
      "text/plain": [
       "[<matplotlib.lines.Line2D at 0x7ffca094a3c8>]"
      ]
     },
     "execution_count": 54,
     "metadata": {},
     "output_type": "execute_result"
    },
    {
     "data": {
      "image/png": "[encoded data removed]",
      "text/plain": [
       "<Figure size 864x144 with 1 Axes>"
      ]
     },
     "metadata": {
      "needs_background": "light"
     },
     "output_type": "display_data"
    }
   ],
   "source": [
    "# Mean FOV score by well\n",
    "d = pd.merge(pinds, log, left_on='ind', right_on='position_ind')\n",
    "d = d.groupby('well_id').max().reset_index()\n",
    "plt.figure(figsize=(12, 2))\n",
    "plt.plot(d.well_id, d.score)\n",
    "# plt.gca().set_ylim([0, 7])"
   ]
  },
  {
   "cell_type": "code",
   "execution_count": null,
   "metadata": {},
   "outputs": [],
   "source": [
    "d.sort_values(by='score')"
   ]
  },
  {
   "cell_type": "code",
   "execution_count": null,
   "metadata": {},
   "outputs": [],
   "source": [
    "# tile acquired FOVs\n",
    "tile = viz.build_tile(\n",
    "    log.loc[log.position_ind.isin(aqlog.position_ind)].sort_values(by='score'), \n",
    "    shape=(12, 16), \n",
    "    figsize=24, \n",
    "    offset=0, \n",
    "    show_labels=True, \n",
    "    label_column='score')"
   ]
  },
  {
   "cell_type": "code",
   "execution_count": null,
   "metadata": {},
   "outputs": [],
   "source": []
  },
  {
   "cell_type": "markdown",
   "metadata": {},
   "source": [
    "### ML0198 (2019-10-24)\n",
    "\n",
    "This is the second half of Plate10. This failed for multiple reasons, including, finally, that the microscope computer ran out of disk space. \n",
    "\n",
    "We added an offset of 20um to the interpolated positions, and observed frequent AFC timeouts. The logs of this experiment are useful only for investigating how the AFC timeout errors were handled. "
   ]
  },
  {
   "cell_type": "code",
   "execution_count": null,
   "metadata": {},
   "outputs": [],
   "source": []
  },
  {
   "cell_type": "markdown",
   "metadata": {},
   "source": [
    "### ML0201 (2019-10-29)\n",
    "\n",
    "This is the second half of Plate10 again, after the failure of ML0198."
   ]
  },
  {
   "cell_type": "code",
   "execution_count": 49,
   "metadata": {},
   "outputs": [],
   "source": [
    "log_dir = '/Users/keith.cheveralls/image-data/dragonfly-automation-tests/ML0201_20191029-1/logs/'\n",
    "\n",
    "log = pd.read_csv(os.path.join(log_dir, 'fov-classification', 'fov-classification-log.csv'))\n",
    "aqlog = pd.read_csv(os.path.join(log_dir, 'ML0201_20191029-1_acquired-images.csv'))\n",
    "afclog = pd.read_csv(os.path.join(log_dir, 'ML0201_20191029-1_afc-calls.csv'))\n",
    "\n",
    "# fix the filepaths in the classification log\n",
    "filepaths = log.image_filepath.values\n",
    "log['filename'] = [os.path.join(log_dir, 'fov-classification', 'fov-images', path.split('\\\\')[-1]) for path in filepaths]"
   ]
  },
  {
   "cell_type": "code",
   "execution_count": 23,
   "metadata": {},
   "outputs": [
    {
     "data": {
      "text/plain": [
       "((1267, 7), 1267)"
      ]
     },
     "execution_count": 23,
     "metadata": {},
     "output_type": "execute_result"
    }
   ],
   "source": [
    "afclog.shape, afclog.afc_error.isna().sum()"
   ]
  },
  {
   "cell_type": "code",
   "execution_count": 24,
   "metadata": {},
   "outputs": [
    {
     "data": {
      "text/plain": [
       "(1200, 11, 4, 11.0)"
      ]
     },
     "execution_count": 24,
     "metadata": {},
     "output_type": "execute_result"
    }
   ],
   "source": [
    "# numbers: total FOVs, score > -.5, score > 0, acquired FOVS\n",
    "log.shape[0], (log.score > -.5).sum(), (log.score > 0).sum(), aqlog.shape[0]/2"
   ]
  },
  {
   "cell_type": "code",
   "execution_count": null,
   "metadata": {},
   "outputs": [],
   "source": [
    "# number of FOVs per well\n",
    "d = aqlog.groupby('well_id').count().reset_index()\n",
    "plt.figure(figsize=(12, 2))\n",
    "plt.plot(d.well_id, d.timestamp/2)\n",
    "plt.gca().set_ylim([0, 7])"
   ]
  },
  {
   "cell_type": "code",
   "execution_count": 50,
   "metadata": {},
   "outputs": [
    {
     "data": {
      "text/plain": [
       "[<matplotlib.lines.Line2D at 0x7ffc7817ea58>]"
      ]
     },
     "execution_count": 50,
     "metadata": {},
     "output_type": "execute_result"
    },
    {
     "data": {
      "image/png": "[encoded data removed]",
      "text/plain": [
       "<Figure size 864x144 with 1 Axes>"
      ]
     },
     "metadata": {
      "needs_background": "light"
     },
     "output_type": "display_data"
    }
   ],
   "source": [
    "# Mean FOV score by well\n",
    "d = pd.merge(pinds, log, left_on='ind', right_on='position_ind')\n",
    "d = d.groupby('well_id').max().reset_index()\n",
    "plt.figure(figsize=(12, 2))\n",
    "plt.plot(d.well_id, d.score)\n",
    "# plt.gca().set_ylim([0, 7])"
   ]
  },
  {
   "cell_type": "code",
   "execution_count": null,
   "metadata": {},
   "outputs": [],
   "source": []
  },
  {
   "cell_type": "markdown",
   "metadata": {},
   "source": [
    "### ML0202 (2019-10-30)\n",
    "\n",
    "This is the first half of Plate7.\n",
    "\n",
    "In this experiment, we also acquired brightfield stacks for the first time, using the same z-stack settings and appended to the raw TIFF stacks as a third channel."
   ]
  },
  {
   "cell_type": "code",
   "execution_count": 51,
   "metadata": {},
   "outputs": [],
   "source": [
    "log_dir = '/Users/keith.cheveralls/image-data/dragonfly-automation-tests/ML0202_20191030-1/logs/'\n",
    "\n",
    "log = pd.read_csv(os.path.join(log_dir, 'fov-classification', 'fov-classification-log.csv'))\n",
    "aqlog = pd.read_csv(os.path.join(log_dir, 'ML0202_20191030-1_acquired-images.csv'))\n",
    "afclog = pd.read_csv(os.path.join(log_dir, 'ML0202_20191030-1_afc-calls.csv'))\n",
    "\n",
    "# fix the filepaths in the classification log\n",
    "filepaths = log.image_filepath.values\n",
    "log['filename'] = [os.path.join(log_dir, 'fov-classification', 'fov-images', path.split('\\\\')[-1]) for path in filepaths]"
   ]
  },
  {
   "cell_type": "code",
   "execution_count": 30,
   "metadata": {},
   "outputs": [
    {
     "data": {
      "text/plain": [
       "((1400, 7), 1398)"
      ]
     },
     "execution_count": 30,
     "metadata": {},
     "output_type": "execute_result"
    }
   ],
   "source": [
    "afclog.shape, afclog.afc_error.isna().sum()"
   ]
  },
  {
   "cell_type": "code",
   "execution_count": 31,
   "metadata": {},
   "outputs": [
    {
     "data": {
      "text/plain": [
       "(1200, 147, 59, 119.0)"
      ]
     },
     "execution_count": 31,
     "metadata": {},
     "output_type": "execute_result"
    }
   ],
   "source": [
    "# numbers: total FOVs, score > -.5, score > 0, acquired FOVS\n",
    "log.shape[0], (log.score > -.5).sum(), (log.score > 0).sum(), aqlog.shape[0]/3"
   ]
  },
  {
   "cell_type": "code",
   "execution_count": null,
   "metadata": {},
   "outputs": [],
   "source": [
    "# number of FOVs per well\n",
    "d = aqlog.groupby('well_id').count().reset_index()\n",
    "plt.figure(figsize=(12, 2))\n",
    "plt.plot(d.well_id, d.timestamp/3)\n",
    "plt.gca().set_ylim([0, 7])"
   ]
  },
  {
   "cell_type": "code",
   "execution_count": 52,
   "metadata": {},
   "outputs": [
    {
     "data": {
      "text/plain": [
       "[<matplotlib.lines.Line2D at 0x7ffcb0e414e0>]"
      ]
     },
     "execution_count": 52,
     "metadata": {},
     "output_type": "execute_result"
    },
    {
     "data": {
      "image/png": "[encoded data removed]",
      "text/plain": [
       "<Figure size 864x144 with 1 Axes>"
      ]
     },
     "metadata": {
      "needs_background": "light"
     },
     "output_type": "display_data"
    }
   ],
   "source": [
    "# Mean FOV score by well\n",
    "d = pd.merge(pinds, log, left_on='ind', right_on='position_ind')\n",
    "d = d.groupby('well_id').max().reset_index()\n",
    "plt.figure(figsize=(12, 2))\n",
    "plt.plot(d.well_id, d.score)\n",
    "# plt.gca().set_ylim([0, 7])"
   ]
  },
  {
   "cell_type": "code",
   "execution_count": null,
   "metadata": {},
   "outputs": [],
   "source": []
  },
  {
   "cell_type": "code",
   "execution_count": null,
   "metadata": {},
   "outputs": [],
   "source": [
    "# tile acquired FOVs\n",
    "tile = viz.build_tile(\n",
    "    log.loc[log.position_ind.isin(aqlog.position_ind)].sort_values(by='score'), \n",
    "    shape=(10, 12), \n",
    "    figsize=24, \n",
    "    offset=0, \n",
    "    show_labels=True, \n",
    "    label_column='score')"
   ]
  },
  {
   "cell_type": "code",
   "execution_count": null,
   "metadata": {},
   "outputs": [],
   "source": [
    "log.loc[log.position_ind.isin(aqlog.position_ind)].sort_values(by='score')"
   ]
  },
  {
   "cell_type": "code",
   "execution_count": null,
   "metadata": {},
   "outputs": [],
   "source": []
  },
  {
   "cell_type": "markdown",
   "metadata": {},
   "source": [
    "### ML0205 (2019-10-31)\n",
    "\n",
    "This is the second half of Plate7.\n",
    "\n",
    "In this experiment, we acquired brightfield stacks again, but this time using different z-stack settings (-20 to +20 with 1um step size) and different aperture and field stop settings."
   ]
  },
  {
   "cell_type": "code",
   "execution_count": 5,
   "metadata": {},
   "outputs": [],
   "source": [
    "log_dir = '/Users/keith.cheveralls/image-data/dragonfly-automation-tests/ML0205_20191031-1/logs/'\n",
    "\n",
    "log = pd.read_csv(os.path.join(log_dir, 'fov-classification', 'fov-classification-log.csv'))\n",
    "aqlog = pd.read_csv(os.path.join(log_dir, 'ML0205_20191031-1_acquired-images.csv'))\n",
    "afclog = pd.read_csv(os.path.join(log_dir, 'ML0205_20191031-1_afc-calls.csv'))\n",
    "\n",
    "# fix the filepaths in the classification log\n",
    "filepaths = log.image_filepath.values\n",
    "log['filename'] = [os.path.join(log_dir, 'fov-classification', 'fov-images', path.split('\\\\')[-1]) for path in filepaths]"
   ]
  },
  {
   "cell_type": "code",
   "execution_count": 6,
   "metadata": {},
   "outputs": [
    {
     "data": {
      "text/plain": [
       "((1482, 7), 1482)"
      ]
     },
     "execution_count": 6,
     "metadata": {},
     "output_type": "execute_result"
    }
   ],
   "source": [
    "afclog.shape, afclog.afc_error.isna().sum()"
   ]
  },
  {
   "cell_type": "code",
   "execution_count": 7,
   "metadata": {},
   "outputs": [
    {
     "data": {
      "text/plain": [
       "(1200, 323, 142, 195.0)"
      ]
     },
     "execution_count": 7,
     "metadata": {},
     "output_type": "execute_result"
    }
   ],
   "source": [
    "# numbers: total FOVs, score > -.5, score > 0, acquired FOVS\n",
    "log.shape[0], (log.score > -.5).sum(), (log.score > 0).sum(), aqlog.shape[0]/3"
   ]
  },
  {
   "cell_type": "code",
   "execution_count": 8,
   "metadata": {},
   "outputs": [
    {
     "data": {
      "text/plain": [
       "(0, 7)"
      ]
     },
     "execution_count": 8,
     "metadata": {},
     "output_type": "execute_result"
    },
    {
     "data": {
      "image/png": "[encoded data removed]",
      "text/plain": [
       "<Figure size 864x144 with 1 Axes>"
      ]
     },
     "metadata": {
      "needs_background": "light"
     },
     "output_type": "display_data"
    }
   ],
   "source": [
    "# number of FOVs per well\n",
    "d = aqlog.groupby('well_id').count().reset_index()\n",
    "plt.figure(figsize=(12, 2))\n",
    "plt.plot(d.well_id, d.timestamp/3)\n",
    "plt.gca().set_ylim([0, 7])"
   ]
  },
  {
   "cell_type": "code",
   "execution_count": 9,
   "metadata": {},
   "outputs": [
    {
     "data": {
      "text/plain": [
       "[<matplotlib.lines.Line2D at 0x7fe7712060f0>]"
      ]
     },
     "execution_count": 9,
     "metadata": {},
     "output_type": "execute_result"
    },
    {
     "data": {
      "image/png": "[encoded data removed]",
      "text/plain": [
       "<Figure size 864x144 with 1 Axes>"
      ]
     },
     "metadata": {
      "needs_background": "light"
     },
     "output_type": "display_data"
    }
   ],
   "source": [
    "# Mean FOV score by well\n",
    "d = pd.merge(pinds, log, left_on='ind', right_on='position_ind')\n",
    "d = d.groupby('well_id').max().reset_index()\n",
    "plt.figure(figsize=(12, 2))\n",
    "plt.plot(d.well_id, d.score)\n",
    "# plt.gca().set_ylim([0, 7])"
   ]
  },
  {
   "cell_type": "code",
   "execution_count": null,
   "metadata": {},
   "outputs": [],
   "source": [
    "# tile acquired FOVs\n",
    "tile = viz.build_tile(\n",
    "    log.loc[log.position_ind.isin(aqlog.position_ind)].sort_values(by='score', ascending=False), \n",
    "    shape=(10, 12), \n",
    "    figsize=24, \n",
    "    offset=0, \n",
    "    show_labels=True, \n",
    "    label_column='score')"
   ]
  },
  {
   "cell_type": "code",
   "execution_count": 12,
   "metadata": {},
   "outputs": [],
   "source": [
    "# parse metadata from ML0205 to extract the aperture and field stop settings (for BF channel)\n",
    "with open('/Users/keith.cheveralls/image-data/dragonfly-automation-tests/ML0205_20191031-1/raw_data/MMStack_134-B4-9_metadata.txt') as file:\n",
    "    d = json.load(file)"
   ]
  },
  {
   "cell_type": "code",
   "execution_count": null,
   "metadata": {},
   "outputs": [],
   "source": [
    "# the relevant keys are 'TL-FieldDiaphragm-Position', 'TL-ApertureDiaphragm-Position', 'Transmitted Light-Level'\n",
    "{key: val for key, val in d['FrameKey-0-0-0'].items() if key.startswith('T')}"
   ]
  },
  {
   "cell_type": "code",
   "execution_count": null,
   "metadata": {},
   "outputs": [],
   "source": []
  }
 ],
 "metadata": {
  "kernelspec": {
   "display_name": "sklearnenv",
   "language": "python",
   "name": "sklearnenv"
  },
  "language_info": {
   "codemirror_mode": {
    "name": "ipython",
    "version": 3
   },
   "file_extension": ".py",
   "mimetype": "text/x-python",
   "name": "python",
   "nbconvert_exporter": "python",
   "pygments_lexer": "ipython3",
   "version": "3.7.3"
  }
 },
 "nbformat": 4,
 "nbformat_minor": 2
}
