{
 "cells": [
  {
   "cell_type": "code",
   "execution_count": null,
   "metadata": {},
   "outputs": [],
   "source": [
    "import os\n",
    "import sys\n",
    "import json\n",
    "import tifffile\n",
    "import skimage\n",
    "import datetime\n",
    "import numpy as np\n",
    "import pandas as pd\n",
    "from collections import namedtuple\n",
    "from py4j.java_gateway import JavaGateway"
   ]
  },
  {
   "cell_type": "code",
   "execution_count": null,
   "metadata": {},
   "outputs": [],
   "source": [
    "sys.path.insert(0, '../')\n",
    "from dragonfly_automation.gateway import gateway_utils\n",
    "from dragonfly_automation.programs.pipeline_plate_program import PipelinePlateProgram"
   ]
  },
  {
   "cell_type": "code",
   "execution_count": null,
   "metadata": {},
   "outputs": [],
   "source": [
    "# mode\n",
    "ENV = 'dev'\n",
    "\n",
    "# The root directory for the experiment\n",
    "EXPERIMENT_DIR = 'D:/PR/dragonfly-automation-tests/20190823'\n",
    "\n",
    "# The list of positions exported from the MicroManager plate-position plugin\n",
    "POSITION_LIST_FILENAME = ''"
   ]
  },
  {
   "cell_type": "code",
   "execution_count": null,
   "metadata": {},
   "outputs": [],
   "source": [
    "# parameters required for z-position interpolation\n",
    "NUM_ROWS = 2\n",
    "NUM_COLUMNS = 8\n",
    "\n",
    "MEASURED_Z_POSITIONS = [\n",
    "    top_left,    top_right,\n",
    "    bottom_left, bottom_right,\n",
    "]"
   ]
  },
  {
   "cell_type": "code",
   "execution_count": null,
   "metadata": {},
   "outputs": [],
   "source": [
    "# interpolate the positions\n",
    "# (note that `interpolated_position_list_filename` is used below, \n",
    "# after acquisition is complete, to rename the TIFF stacks)\n",
    "interpolated_position_list_filename = dragonfly_automation.utils.interpolate_positions(\n",
    "    POSITION_LIST_FILENAME,\n",
    "    NUM_ROWS,\n",
    "    NUM_COLUMNS,\n",
    "    MEASURED_Z_POSITIONS)"
   ]
  },
  {
   "cell_type": "code",
   "execution_count": null,
   "metadata": {},
   "outputs": [],
   "source": [
    "# data directory for dev mode\n",
    "if ENV=='dev':\n",
    "    EXPERIMENT_DIR = '../tests/output/ML0000_20190827'"
   ]
  },
  {
   "cell_type": "code",
   "execution_count": null,
   "metadata": {},
   "outputs": [],
   "source": [
    "# autoreload only in 'dev' mode (because it doesn't work with py4j objects)\n",
    "if ENV=='dev':\n",
    "    %load_ext autoreload\n",
    "    %autoreload 2"
   ]
  },
  {
   "cell_type": "code",
   "execution_count": null,
   "metadata": {},
   "outputs": [],
   "source": [
    "# temporary hack to avoid a py4j Java error:\n",
    "# create the datastore object here, rather than in program._initialize_datastore\n",
    "datastore = None\n",
    "datastore_dir = os.makedirs(os.path.join(EXPERIMENT_DIR, 'data'), exist_ok=True)\n",
    "\n",
    "if ENV=='prod':\n",
    "    # use wrap=False just to be safe\n",
    "    gate, mm_studio, mm_core = gateway_utils.get_gate(env=ENV, wrap=False)\n",
    "    datastore = mm_studio.data().createMultipageTIFFDatastore(datastore_dir, True, True)\n",
    "    mm_studio.displays().createDisplay(datastore)"
   ]
  },
  {
   "cell_type": "code",
   "execution_count": null,
   "metadata": {},
   "outputs": [],
   "source": [
    "# instantiate the program\n",
    "program = PipelinePlateProgram(datastore, root_dir=EXPERIMENT_DIR, env=ENV, verbose=False)"
   ]
  },
  {
   "cell_type": "code",
   "execution_count": null,
   "metadata": {
    "scrolled": true
   },
   "outputs": [],
   "source": [
    "program.setup()"
   ]
  },
  {
   "cell_type": "code",
   "execution_count": null,
   "metadata": {
    "scrolled": false
   },
   "outputs": [],
   "source": [
    "program.run()"
   ]
  },
  {
   "cell_type": "code",
   "execution_count": null,
   "metadata": {},
   "outputs": [],
   "source": [
    "program.cleanup()"
   ]
  },
  {
   "cell_type": "code",
   "execution_count": null,
   "metadata": {},
   "outputs": [],
   "source": [
    "# rename the TIFF stack filenames so that they include the imaging plate well ID,\n",
    "# using the position list exported from the plate-position plugin\n",
    "program.rename_tiff_files(interpolated_position_list_filename)\n",
    "\n",
    "# TODO: a second round of file renaming so that the filenames also include the 'real' well ID (and the target name?)"
   ]
  }
 ],
 "metadata": {
  "kernelspec": {
   "display_name": "cvenv",
   "language": "python",
   "name": "cvenv"
  },
  "language_info": {
   "codemirror_mode": {
    "name": "ipython",
    "version": 3
   },
   "file_extension": ".py",
   "mimetype": "text/x-python",
   "name": "python",
   "nbconvert_exporter": "python",
   "pygments_lexer": "ipython3",
   "version": "3.7.3"
  }
 },
 "nbformat": 4,
 "nbformat_minor": 2
}
