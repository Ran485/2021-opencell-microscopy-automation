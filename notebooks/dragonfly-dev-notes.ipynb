{
 "cells": [
  {
   "cell_type": "code",
   "execution_count": null,
   "metadata": {},
   "outputs": [],
   "source": [
    "import os\n",
    "import re\n",
    "import sys\n",
    "import git\n",
    "import json\n",
    "import joblib\n",
    "import skimage\n",
    "import sklearn\n",
    "import tifffile\n",
    "import datetime\n",
    "import numpy as np\n",
    "import pandas as pd\n",
    "from py4j.java_gateway import JavaGateway"
   ]
  },
  {
   "cell_type": "code",
   "execution_count": null,
   "metadata": {},
   "outputs": [],
   "source": [
    "sys.path.insert(0, '../')\n",
    "from dragonfly_automation import utils\n",
    "from dragonfly_automation.gateway import gateway_utils\n",
    "from dragonfly_automation.programs.pipeline_plate_program import PipelinePlateProgram"
   ]
  },
  {
   "cell_type": "code",
   "execution_count": null,
   "metadata": {},
   "outputs": [],
   "source": [
    "# mode\n",
    "ENV = 'dev'"
   ]
  },
  {
   "cell_type": "code",
   "execution_count": null,
   "metadata": {},
   "outputs": [],
   "source": [
    "# data directory for dev mode\n",
    "if ENV=='dev':\n",
    "    experiment_dir = os.path.join('..', 'tests', 'output', 'ML0000_20190903')\n",
    "    \n",
    "if ENV=='prod':\n",
    "    experiment_dir = os.path.join('D:', 'PR', 'dragonfly-automation-tests',' ML0000_20190830')"
   ]
  },
  {
   "cell_type": "code",
   "execution_count": null,
   "metadata": {},
   "outputs": [],
   "source": [
    "# autoreload only in 'dev' mode (because it doesn't work with py4j objects)\n",
    "if ENV=='dev':\n",
    "    %load_ext autoreload\n",
    "    %autoreload 2"
   ]
  },
  {
   "cell_type": "code",
   "execution_count": null,
   "metadata": {},
   "outputs": [],
   "source": [
    "# load the confluency classifier\n",
    "confluency_classifier = joblib.load(\n",
    "    os.path.join('..', 'models', '20190909_RandomForestClassifier_spread.joblib'))"
   ]
  },
  {
   "cell_type": "code",
   "execution_count": null,
   "metadata": {},
   "outputs": [],
   "source": [
    "# instantiate the program\n",
    "program = PipelinePlateProgram(\n",
    "    experiment_dir, \n",
    "    confluency_classifier, \n",
    "    env=ENV, \n",
    "    verbose=False)"
   ]
  },
  {
   "cell_type": "code",
   "execution_count": null,
   "metadata": {
    "scrolled": true
   },
   "outputs": [],
   "source": [
    "program.setup()"
   ]
  },
  {
   "cell_type": "code",
   "execution_count": null,
   "metadata": {
    "scrolled": false
   },
   "outputs": [],
   "source": [
    "program.run()"
   ]
  },
  {
   "cell_type": "code",
   "execution_count": null,
   "metadata": {},
   "outputs": [],
   "source": [
    "program.cleanup()"
   ]
  },
  {
   "cell_type": "code",
   "execution_count": null,
   "metadata": {},
   "outputs": [],
   "source": [
    "# TODO: rename the TIFF stack filenames so that they include the imaging plate well ID,\n",
    "# using the position list exported from the HCS Site Generator plugin\n",
    "# Note that rename_tiff_files must be a method attribute of the program instance\n",
    "# so that the file renaming can be logged, but it can be just a thin wrapper\n",
    "# around a stand-alone renaming method in, e.g., dragonfly_automation.utils\n",
    "program.rename_tiff_files(interpolated_position_list_filename)\n",
    "\n",
    "# TODO: a second round of file renaming so that the filenames also include \n",
    "# the 'real' well ID (and the target name?)"
   ]
  },
  {
   "cell_type": "code",
   "execution_count": null,
   "metadata": {},
   "outputs": [],
   "source": []
  }
 ],
 "metadata": {
  "kernelspec": {
   "display_name": "sklearnenv",
   "language": "python",
   "name": "sklearnenv"
  },
  "language_info": {
   "codemirror_mode": {
    "name": "ipython",
    "version": 3
   },
   "file_extension": ".py",
   "mimetype": "text/x-python",
   "name": "python",
   "nbconvert_exporter": "python",
   "pygments_lexer": "ipython3",
   "version": "3.7.3"
  }
 },
 "nbformat": 4,
 "nbformat_minor": 2
}
