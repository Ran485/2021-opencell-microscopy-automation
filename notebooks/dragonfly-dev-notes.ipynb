{
 "cells": [
  {
   "cell_type": "code",
   "execution_count": null,
   "metadata": {},
   "outputs": [],
   "source": [
    "import os\n",
    "import re\n",
    "import sys\n",
    "import git\n",
    "import json\n",
    "import skimage\n",
    "import sklearn\n",
    "import tifffile\n",
    "import logging\n",
    "import datetime\n",
    "import numpy as np\n",
    "import pandas as pd\n",
    "\n",
    "from py4j.java_gateway import JavaGateway\n",
    "from matplotlib import pyplot as plt"
   ]
  },
  {
   "cell_type": "code",
   "execution_count": null,
   "metadata": {},
   "outputs": [],
   "source": [
    "sys.path.insert(0, '..')\n",
    "from dragonfly_automation import utils\n",
    "from dragonfly_automation.gateway import gateway_utils\n",
    "from dragonfly_automation.fov_classifier import FOVClassifier\n",
    "from dragonfly_automation.programs.pipeline_plate_program import PipelinePlateProgram"
   ]
  },
  {
   "cell_type": "code",
   "execution_count": null,
   "metadata": {},
   "outputs": [],
   "source": [
    "# mode\n",
    "ENV = 'dev'"
   ]
  },
  {
   "cell_type": "code",
   "execution_count": null,
   "metadata": {},
   "outputs": [],
   "source": [
    "# data directory for dev mode\n",
    "if ENV=='dev':\n",
    "    experiment_dir = os.path.join('..', 'tests', 'output', 'ML0000_20190903')\n",
    "    \n",
    "if ENV=='prod':\n",
    "    experiment_dir = os.path.join('D:', 'PR', 'dragonfly-automation-tests',' ML0000_20190830')"
   ]
  },
  {
   "cell_type": "code",
   "execution_count": null,
   "metadata": {},
   "outputs": [],
   "source": [
    "# autoreload only in 'dev' mode (because it doesn't work with py4j objects)\n",
    "if ENV=='dev':\n",
    "    %load_ext autoreload\n",
    "    %autoreload 2"
   ]
  },
  {
   "cell_type": "code",
   "execution_count": null,
   "metadata": {},
   "outputs": [],
   "source": [
    "# instantiate the FOV classifier\n",
    "fov_classifier = FOVClassifier(cache_dir = '../models/2019-09-28', mode='prediction')\n",
    "fov_classifier.load()\n",
    "fov_classifier.train('spread', cross_validate=True)\n",
    "fov_classifier.validate()"
   ]
  },
  {
   "cell_type": "code",
   "execution_count": null,
   "metadata": {},
   "outputs": [],
   "source": [
    "fov_classifier.train('spread', cross_validate=False)"
   ]
  },
  {
   "cell_type": "code",
   "execution_count": null,
   "metadata": {},
   "outputs": [],
   "source": [
    "# instantiate the program\n",
    "program = PipelinePlateProgram(\n",
    "    experiment_dir, \n",
    "    fov_classifier, \n",
    "    env=ENV, \n",
    "    verbose=True)"
   ]
  },
  {
   "cell_type": "code",
   "execution_count": null,
   "metadata": {
    "scrolled": true
   },
   "outputs": [],
   "source": [
    "program.setup()"
   ]
  },
  {
   "cell_type": "code",
   "execution_count": null,
   "metadata": {
    "scrolled": false
   },
   "outputs": [],
   "source": [
    "program.run()"
   ]
  },
  {
   "cell_type": "code",
   "execution_count": null,
   "metadata": {},
   "outputs": [],
   "source": [
    "# TODO: rename the TIFF stacks so that their filenames include\n",
    "# the 'real' well_id and the target name"
   ]
  },
  {
   "cell_type": "code",
   "execution_count": null,
   "metadata": {},
   "outputs": [],
   "source": []
  }
 ],
 "metadata": {
  "kernelspec": {
   "display_name": "sklearnenv",
   "language": "python",
   "name": "sklearnenv"
  },
  "language_info": {
   "codemirror_mode": {
    "name": "ipython",
    "version": 3
   },
   "file_extension": ".py",
   "mimetype": "text/x-python",
   "name": "python",
   "nbconvert_exporter": "python",
   "pygments_lexer": "ipython3",
   "version": "3.7.3"
  }
 },
 "nbformat": 4,
 "nbformat_minor": 2
}
