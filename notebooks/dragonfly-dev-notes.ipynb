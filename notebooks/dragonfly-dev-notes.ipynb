{
 "cells": [
  {
   "cell_type": "code",
   "execution_count": null,
   "metadata": {},
   "outputs": [],
   "source": [
    "import os\n",
    "import sys\n",
    "import skimage\n",
    "import datetime\n",
    "import numpy as np\n",
    "from collections import namedtuple\n",
    "from py4j.java_gateway import JavaGateway"
   ]
  },
  {
   "cell_type": "code",
   "execution_count": null,
   "metadata": {},
   "outputs": [],
   "source": [
    "sys.path.insert(0, '../')\n",
    "from dragonfly_automation.gateway import gateway_utils\n",
    "from dragonfly_automation.programs.pipeline_plate_program import PipelinePlateProgram"
   ]
  },
  {
   "cell_type": "code",
   "execution_count": null,
   "metadata": {},
   "outputs": [],
   "source": [
    "# production mode\n",
    "ENV = 'prod'\n",
    "\n",
    "# ** UPDATE THIS DIRECTORY! **\n",
    "data_dir = 'D:/PR/dragonfly-automation-tests/20190823'"
   ]
  },
  {
   "cell_type": "code",
   "execution_count": null,
   "metadata": {},
   "outputs": [],
   "source": [
    "# development mode\n",
    "ENV = 'dev'\n",
    "data_dir = '../tests/output/ML0000_20190827'"
   ]
  },
  {
   "cell_type": "code",
   "execution_count": null,
   "metadata": {},
   "outputs": [],
   "source": [
    "# load autoreload only in 'dev' mode, because it doesn't play well with py4j\n",
    "if ENV=='dev':\n",
    "    %load_ext autoreload\n",
    "    %autoreload 2"
   ]
  },
  {
   "cell_type": "code",
   "execution_count": null,
   "metadata": {},
   "outputs": [],
   "source": [
    "# temporary hack: instantiate the datastore object here, rather than in the program\n",
    "datastore = None\n",
    "os.makedirs(data_dir, exist_ok=True)\n",
    "\n",
    "if ENV=='prod':\n",
    "    # don't wrap the datastore object, just to be safe\n",
    "    gate, mm_studio, mm_core = gateway_utils.get_gate(env=ENV, wrap=False)\n",
    "    datastore = mm_studio.data().createMultipageTIFFDatastore(data_dir, True, True)\n",
    "    mm_studio.displays().createDisplay(datastore)"
   ]
  },
  {
   "cell_type": "code",
   "execution_count": null,
   "metadata": {},
   "outputs": [],
   "source": [
    "# instantiate the program\n",
    "program = PipelinePlateProgram(datastore, data_dir, env=ENV)"
   ]
  },
  {
   "cell_type": "code",
   "execution_count": null,
   "metadata": {
    "scrolled": true
   },
   "outputs": [],
   "source": [
    "program.setup()"
   ]
  },
  {
   "cell_type": "code",
   "execution_count": null,
   "metadata": {
    "scrolled": false
   },
   "outputs": [],
   "source": [
    "program.run()"
   ]
  },
  {
   "cell_type": "code",
   "execution_count": null,
   "metadata": {},
   "outputs": [],
   "source": [
    "program.cleanup()"
   ]
  },
  {
   "cell_type": "code",
   "execution_count": null,
   "metadata": {},
   "outputs": [],
   "source": []
  }
 ],
 "metadata": {
  "kernelspec": {
   "display_name": "cvenv",
   "language": "python",
   "name": "cvenv"
  },
  "language_info": {
   "codemirror_mode": {
    "name": "ipython",
    "version": 3
   },
   "file_extension": ".py",
   "mimetype": "text/x-python",
   "name": "python",
   "nbconvert_exporter": "python",
   "pygments_lexer": "ipython3",
   "version": "3.7.3"
  }
 },
 "nbformat": 4,
 "nbformat_minor": 2
}
