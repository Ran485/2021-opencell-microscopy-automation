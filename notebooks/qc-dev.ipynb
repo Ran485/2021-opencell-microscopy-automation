{
 "cells": [
  {
   "cell_type": "code",
   "execution_count": null,
   "metadata": {},
   "outputs": [],
   "source": [
    "import os\n",
    "import re\n",
    "import sys\n",
    "import glob\n",
    "import json\n",
    "import shutil\n",
    "import skimage\n",
    "import imageio\n",
    "import tifffile\n",
    "import datetime\n",
    "import requests\n",
    "import jsonschema\n",
    "import numpy as np\n",
    "import pandas as pd\n",
    "import seaborn as sns\n",
    "\n",
    "from scipy import ndimage\n",
    "from matplotlib import pyplot as plt\n",
    "from matplotlib import colors as mplcolors\n",
    "\n",
    "from skimage import feature\n",
    "from skimage import morphology\n",
    "\n",
    "%load_ext autoreload\n",
    "%autoreload 2"
   ]
  },
  {
   "cell_type": "code",
   "execution_count": null,
   "metadata": {},
   "outputs": [],
   "source": [
    "sys.path.append('/Users/keith.cheveralls/projects/opencell/')\n",
    "from opencell.imaging import images, utils, viz\n",
    "\n",
    "sys.path.append('/Users/keith.cheveralls/projects/dragonfly-automation/')\n",
    "import dragonfly_automation.utils\n",
    "from dragonfly_automation.fov_models import PipelineFOVScorer\n",
    "from dragonfly_automation.qc import half_plate_layout\n",
    "from dragonfly_automation.qc.pipeline_plate_qc import PipelinePlateQC"
   ]
  },
  {
   "cell_type": "code",
   "execution_count": null,
   "metadata": {},
   "outputs": [],
   "source": [
    "# resize images for the SOP\n",
    "jpgs = glob.glob('/Users/keith.cheveralls/Box/KCC-slides/automated-pipeline-microscopy-SOP/*.JPG')\n",
    "for jpg in jpgs:\n",
    "    pass\n",
    "    im = imageio.imread(jpg)\n",
    "    imageio.imsave(jpg.replace('.JPG', '_RESZ4.JPG'), skimage.transform.downscale_local_mean(im, (4, 4, 1)))"
   ]
  },
  {
   "cell_type": "code",
   "execution_count": null,
   "metadata": {},
   "outputs": [],
   "source": [
    "# local acquisition directories (logs only)\n",
    "pml_dirs = glob.glob('/Users/keith.cheveralls/image-data/raw-pipeline-microscopy/PML*/')\n",
    "pml_dirs = sorted(pml_dirs)\n",
    "pml_dirs"
   ]
  },
  {
   "cell_type": "code",
   "execution_count": null,
   "metadata": {},
   "outputs": [],
   "source": [
    "# real acquisition directories (on ESS)\n",
    "pml_dirs = glob.glob('/Volumes/ml_group/raw-pipeline-microscopy/PML*')\n",
    "pml_dirs = sorted(pml_dirs)\n",
    "pml_dirs"
   ]
  },
  {
   "cell_type": "markdown",
   "metadata": {},
   "source": [
    "### Create the external_metadata files for existing experiments"
   ]
  },
  {
   "cell_type": "code",
   "execution_count": null,
   "metadata": {},
   "outputs": [],
   "source": [
    "# load the google sheet export\n",
    "google_sheet = pd.read_csv('/Users/keith.cheveralls/Downloads/Pipeline-microscopy-master-key - PMLs (1).csv')\n",
    "google_sheet.rename(columns={'id': 'pml_id'}, inplace=True)"
   ]
  },
  {
   "cell_type": "code",
   "execution_count": null,
   "metadata": {},
   "outputs": [],
   "source": [
    "# generate the metadata JSON files from the google sheet\n",
    "# (note that these files are created when the acquisition is initialized; \n",
    "# they were regenerated to eliminate variation in e.g., parental_line_id)\n",
    "\n",
    "# the metadata attributes for canonical half-plate or full-plate imaging\n",
    "columns = ['pml_id', 'parental_line', 'plate_id', 'platemap_type', 'imaging_round_id']\n",
    "\n",
    "overwrite = False\n",
    "for path in pml_dirs:\n",
    "    \n",
    "    # the directory name is exactly the pml_id\n",
    "    pml_id = path.split(os.sep)[-1]\n",
    "    \n",
    "    # retrieve the entry in the google sheet for this pml_id\n",
    "    if pml_id not in google_sheet.pml_id.values:\n",
    "        print('pml_id %s not found in google sheet' % pml_id)\n",
    "        continue\n",
    "    metadata = google_sheet.loc[google_sheet.pml_id==pml_id].iloc[0][columns]\n",
    "   \n",
    "    # if there is a custom platemap, the metadata should contain only the pml_id and the platemap_type\n",
    "    if metadata['platemap_type'] == 'custom':\n",
    "        metadata = metadata[['pml_id', 'platemap_type']]\n",
    "\n",
    "    dst_filepath = os.path.join(path, 'metadata.json')\n",
    "    if os.path.isfile(dst_filepath) and not overwrite:\n",
    "        print('metadata.json already exists in %s' % path)\n",
    "    else:\n",
    "        with open(dst_filepath, 'w') as file:\n",
    "            json.dump(dict(metadata), file)"
   ]
  },
  {
   "cell_type": "markdown",
   "metadata": {},
   "source": [
    "### Load all of the existing external metadata files"
   ]
  },
  {
   "cell_type": "code",
   "execution_count": null,
   "metadata": {},
   "outputs": [],
   "source": [
    "rows = []\n",
    "for path in pml_dirs:\n",
    "    dirname = path.split(os.sep)[-1]\n",
    "    filepath = glob.glob(os.path.join(path, 'metadata.json'))\n",
    "    if len(filepath) != 1:\n",
    "        print('More than one metadata file in %s' % path)\n",
    "\n",
    "    with open(filepath.pop()) as file:\n",
    "        metadata = json.load(file)\n",
    "        if metadata.get('pml_id') is not None and metadata['pml_id'] != dirname:\n",
    "            print('Warning')\n",
    "            \n",
    "        row = {'dirname': dirname}\n",
    "        row.update(metadata)\n",
    "        rows.append(row)"
   ]
  },
  {
   "cell_type": "code",
   "execution_count": null,
   "metadata": {},
   "outputs": [],
   "source": [
    "all_md = pd.DataFrame(data=rows)\n",
    "all_md"
   ]
  },
  {
   "cell_type": "code",
   "execution_count": null,
   "metadata": {},
   "outputs": [],
   "source": [
    "for pml_dir in pml_dirs:\n",
    "    qc = PipelinePlateQC(pml_dir)\n",
    "    qc.summarize()\n",
    "    print('\\n')"
   ]
  },
  {
   "cell_type": "code",
   "execution_count": null,
   "metadata": {},
   "outputs": [],
   "source": [
    "qc = PipelinePlateQC('/Volumes/ml_group/raw-pipeline-microscopy/PML0233/')\n",
    "qcc = PipelinePlateQC('/Volumes/ml_group/raw-pipeline-microscopy/PML0231/')"
   ]
  },
  {
   "cell_type": "markdown",
   "metadata": {},
   "source": [
    "### File renaming"
   ]
  },
  {
   "cell_type": "code",
   "execution_count": null,
   "metadata": {},
   "outputs": [],
   "source": [
    "# raw filename format\n",
    "'czML0383-P0001-A01-PML0300-S16__MMStack_16-B9-16.ome.tif'\n",
    "'czML0383-P0001-A06-PML0300-S05__MMStack_1180-G9-5.ome.tif'\n",
    "\n",
    "# oc-plate-microscopy format\n",
    "'czML0383-P0001-A01-PML0300-S01_ATL2.tif'"
   ]
  },
  {
   "cell_type": "code",
   "execution_count": null,
   "metadata": {},
   "outputs": [],
   "source": [
    "qcc.summarize()"
   ]
  },
  {
   "cell_type": "code",
   "execution_count": null,
   "metadata": {},
   "outputs": [],
   "source": [
    "qcc.plot_counts_and_scores()"
   ]
  },
  {
   "cell_type": "code",
   "execution_count": null,
   "metadata": {},
   "outputs": [],
   "source": [
    "qcc.platemap"
   ]
  },
  {
   "cell_type": "code",
   "execution_count": null,
   "metadata": {},
   "outputs": [],
   "source": [
    "qc.aq_log.head()"
   ]
  },
  {
   "cell_type": "code",
   "execution_count": null,
   "metadata": {},
   "outputs": [],
   "source": [
    "# get target names from API\n",
    "result = requests.get('http://localhost:5000/lines?plate_id=P0019')\n",
    "pd.DataFrame(data=result.json())[['cell_line_id', 'plate_id', 'well_id', 'target_name']].sort_values(by='well_id')"
   ]
  },
  {
   "cell_type": "code",
   "execution_count": null,
   "metadata": {},
   "outputs": [],
   "source": [
    "qc.rename_raw_tiffs(preview=True)"
   ]
  },
  {
   "cell_type": "code",
   "execution_count": null,
   "metadata": {},
   "outputs": [],
   "source": [
    "qc.generate_z_projections('/Users/keith.cheveralls/projects/opencell-process/')"
   ]
  }
 ],
 "metadata": {
  "kernelspec": {
   "display_name": "sklearnenv",
   "language": "python",
   "name": "sklearnenv"
  },
  "language_info": {
   "codemirror_mode": {
    "name": "ipython",
    "version": 3
   },
   "file_extension": ".py",
   "mimetype": "text/x-python",
   "name": "python",
   "nbconvert_exporter": "python",
   "pygments_lexer": "ipython3",
   "version": "3.7.3"
  }
 },
 "nbformat": 4,
 "nbformat_minor": 2
}
