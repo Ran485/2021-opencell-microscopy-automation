{
 "cells": [
  {
   "cell_type": "code",
   "execution_count": null,
   "metadata": {},
   "outputs": [],
   "source": [
    "import os\n",
    "import re\n",
    "import sys\n",
    "import glob\n",
    "import json\n",
    "import shutil\n",
    "import skimage\n",
    "import imageio\n",
    "import tifffile\n",
    "import datetime\n",
    "import requests\n",
    "import jsonschema\n",
    "import numpy as np\n",
    "import pandas as pd\n",
    "import seaborn as sns\n",
    "from scipy import ndimage\n",
    "from matplotlib import pyplot as plt\n",
    "\n",
    "%load_ext autoreload\n",
    "%autoreload 1\n",
    "\n",
    "sys.path.append('/Users/keith.cheveralls/projects/opencell/')\n",
    "from opencell.imaging.images import RawPipelineTIFF\n",
    "\n",
    "sys.path.append('/Users/keith.cheveralls/projects/dragonfly-automation/')\n",
    "import dragonfly_automation.utils\n",
    "\n",
    "%aimport dragonfly_automation.qc.pipeline_plate_qc\n",
    "from dragonfly_automation.fov_models import PipelineFOVScorer\n",
    "from dragonfly_automation.qc.pipeline_plate_qc import PipelinePlateQC"
   ]
  },
  {
   "cell_type": "code",
   "execution_count": null,
   "metadata": {},
   "outputs": [],
   "source": [
    "# resize images for the SOP\n",
    "jpgs = glob.glob('/Users/keith.cheveralls/Box/KCC-slides/automated-pipeline-microscopy-SOP/*.JPG')\n",
    "for jpg in jpgs:\n",
    "    continue\n",
    "    im = imageio.imread(jpg)\n",
    "    imageio.imsave(jpg.replace('.JPG', '_RESZ4.JPG'), skimage.transform.downscale_local_mean(im, (4, 4, 1)))"
   ]
  },
  {
   "cell_type": "code",
   "execution_count": null,
   "metadata": {},
   "outputs": [],
   "source": [
    "# get target names from API\n",
    "result = requests.get('http://localhost:5000/lines?plate_id=P0019')\n",
    "pd.DataFrame(data=result.json())[['cell_line_id', 'plate_id', 'well_id', 'target_name']].sort_values(by='well_id')"
   ]
  },
  {
   "cell_type": "code",
   "execution_count": null,
   "metadata": {},
   "outputs": [],
   "source": [
    "# local acquisition directories (logs only)\n",
    "pml_dirs = glob.glob('/Users/keith.cheveralls/image-data/raw-pipeline-microscopy/PML*/')\n",
    "pml_dirs = sorted(pml_dirs)\n",
    "len(pml_dirs)"
   ]
  },
  {
   "cell_type": "code",
   "execution_count": null,
   "metadata": {},
   "outputs": [],
   "source": [
    "# real acquisitions (on ESS)\n",
    "pml_dirs = glob.glob('/Volumes/ml_group/raw-pipeline-microscopy/PML*')\n",
    "pml_dirs = sorted([pml_dir for pml_dir in pml_dirs if os.path.isdir(pml_dir)])\n",
    "len(pml_dirs)"
   ]
  },
  {
   "cell_type": "code",
   "execution_count": null,
   "metadata": {},
   "outputs": [],
   "source": [
    "# discarded acquisitions (on ESS)\n",
    "pml_dirs = glob.glob('/Volumes/ml_group/raw-pipeline-microscopy/_PML*')\n",
    "pml_dirs = sorted([pml_dir for pml_dir in pml_dirs if os.path.isdir(pml_dir)])\n",
    "len(pml_dirs)"
   ]
  },
  {
   "cell_type": "markdown",
   "metadata": {},
   "source": [
    "### Create the external_metadata files for existing experiments"
   ]
  },
  {
   "cell_type": "code",
   "execution_count": null,
   "metadata": {},
   "outputs": [],
   "source": [
    "# load the google sheet export\n",
    "google_sheet = pd.read_csv('/Users/keith.cheveralls/Downloads/2020-01-17-Pipeline-microscopy-master-key-PMLs.csv')\n",
    "google_sheet.rename(columns={'id': 'pml_id'}, inplace=True)\n",
    "google_sheet"
   ]
  },
  {
   "cell_type": "code",
   "execution_count": null,
   "metadata": {},
   "outputs": [],
   "source": [
    "# generate the metadata JSON files from the google sheet\n",
    "# (note that these files are created when the acquisition is initialized; \n",
    "# they were regenerated to eliminate variation in e.g., parental_line_id)\n",
    "\n",
    "# the metadata attributes for canonical half-plate or full-plate imaging\n",
    "columns = ['pml_id', 'parental_line', 'plate_id', 'platemap_type', 'imaging_round_id']\n",
    "\n",
    "overwrite = False\n",
    "for path in pml_dirs:\n",
    "    \n",
    "    # the directory name is exactly the pml_id\n",
    "    pml_id = path.split(os.sep)[-1]\n",
    "    \n",
    "    # retrieve the entry in the google sheet for this pml_id\n",
    "    if pml_id not in google_sheet.pml_id.values:\n",
    "        print('pml_id %s not found in google sheet' % pml_id)\n",
    "        continue\n",
    "    metadata = google_sheet.loc[google_sheet.pml_id==pml_id].iloc[0][columns]\n",
    "   \n",
    "    # if there is a custom platemap, the metadata should contain only the pml_id and the platemap_type\n",
    "    if metadata['platemap_type'] == 'custom':\n",
    "        metadata = metadata[['pml_id', 'platemap_type']]\n",
    "\n",
    "    dst_filepath = os.path.join(path, 'metadata.json')\n",
    "    if os.path.isfile(dst_filepath) and not overwrite:\n",
    "        print('metadata.json already exists in %s' % path)\n",
    "    else:\n",
    "        with open(dst_filepath, 'w') as file:\n",
    "            json.dump(dict(metadata), file)"
   ]
  },
  {
   "cell_type": "code",
   "execution_count": null,
   "metadata": {},
   "outputs": [],
   "source": [
    "# update all of the custom platemaps so that the parental_line is always consistent\n",
    "overwrite = False\n",
    "for dirpath in pml_dirs:\n",
    "    filepaths = glob.glob(os.path.join(dirpath, '*platemap.csv'))\n",
    "    if not filepaths:\n",
    "        continue\n",
    "    if len(filepaths) > 1:\n",
    "        print('Warning: more than one platemap in %s' % dirpath)\n",
    "    filepath = filepaths[0]\n",
    "    print(filepath)\n",
    "\n",
    "    platemap = pd.read_csv(filepath)\n",
    "    platemap['parental_line'] = 'czML0383'\n",
    "    if 'electroporation_id' in platemap.columns:\n",
    "        platemap.drop('electroporation_id', axis=1, inplace=True)\n",
    "        \n",
    "    if overwrite:\n",
    "        platemap.to_csv(filepath, index=False)"
   ]
  },
  {
   "cell_type": "markdown",
   "metadata": {},
   "source": [
    "### Load all of the existing external metadata files"
   ]
  },
  {
   "cell_type": "code",
   "execution_count": null,
   "metadata": {},
   "outputs": [],
   "source": [
    "rows = []\n",
    "for path in pml_dirs:\n",
    "    dirname = path.split(os.sep)[-1]\n",
    "    filepath = glob.glob(os.path.join(path, 'metadata.json'))\n",
    "    if len(filepath) != 1:\n",
    "        print('More than one metadata file in %s' % path)\n",
    "\n",
    "    with open(filepath.pop()) as file:\n",
    "        metadata = json.load(file)\n",
    "        if metadata.get('pml_id') is not None and metadata['pml_id'] != dirname:\n",
    "            print('Warning')\n",
    "            \n",
    "        row = {'dirname': dirname}\n",
    "        row.update(metadata)\n",
    "        rows.append(row)"
   ]
  },
  {
   "cell_type": "code",
   "execution_count": null,
   "metadata": {},
   "outputs": [],
   "source": [
    "all_md = pd.DataFrame(data=rows)\n",
    "all_md.head()"
   ]
  },
  {
   "cell_type": "markdown",
   "metadata": {},
   "source": [
    "### Concat all raw TIFF metadata"
   ]
  },
  {
   "cell_type": "code",
   "execution_count": null,
   "metadata": {},
   "outputs": [],
   "source": [
    "mds = []\n",
    "for pml_dir in pml_dirs:\n",
    "    print(pml_dir)\n",
    "    qc = PipelinePlateQC(pml_dir)\n",
    "    try:\n",
    "        md = qc.construct_fov_metadata(overwrite=True)\n",
    "    except:\n",
    "        md = qc.construct_fov_metadata(overwrite=True, renamed=True)\n",
    "    mds.append(md)"
   ]
  },
  {
   "cell_type": "code",
   "execution_count": null,
   "metadata": {},
   "outputs": [],
   "source": [
    "all_md = pd.concat(mds, axis=0, sort=False)\n",
    "all_md.shape"
   ]
  },
  {
   "cell_type": "code",
   "execution_count": null,
   "metadata": {},
   "outputs": [],
   "source": [
    "# rows with any NANs\n",
    "all_md.loc[all_md.isna().sum(axis=1) > 0]"
   ]
  },
  {
   "cell_type": "code",
   "execution_count": null,
   "metadata": {},
   "outputs": [],
   "source": [
    "# unique values\n",
    "cols = ('parental_line', 'imaging_round_id', 'platemap_type', 'plate_id', 'pml_id', 'site_num')\n",
    "for col in cols:\n",
    "    print('%s: %s' % (col, np.array(sorted(all_md[col].unique()))))"
   ]
  },
  {
   "cell_type": "code",
   "execution_count": null,
   "metadata": {},
   "outputs": [],
   "source": [
    "# fix existing metadata filenames\n",
    "for pml_dir in pml_dirs:\n",
    "    print(pml_dir)\n",
    "    # os.rename(os.path.join(pml_dir, 'raw-tiff-metadata.csv'), os.path.join(pml_dir, 'fov-metadata.csv'))"
   ]
  },
  {
   "cell_type": "code",
   "execution_count": null,
   "metadata": {},
   "outputs": [],
   "source": [
    "# test construct_fov_metadata after files have been renamed\n",
    "qc = PipelinePlateQC('/Users/keith.cheveralls/image-data/raw-pipeline-microscopy/PML0227/')\n",
    "md = qc.construct_fov_metadata(renamed=True, overwrite=True)"
   ]
  },
  {
   "cell_type": "markdown",
   "metadata": {},
   "source": [
    "### Debugging"
   ]
  },
  {
   "cell_type": "code",
   "execution_count": null,
   "metadata": {},
   "outputs": [],
   "source": [
    "qc = PipelinePlateQC('/Volumes/ml_group/raw-pipeline-microscopy/PML0244/')"
   ]
  },
  {
   "cell_type": "markdown",
   "metadata": {},
   "source": [
    "### Parse the events log to check for lagging-snap issue"
   ]
  },
  {
   "cell_type": "code",
   "execution_count": null,
   "metadata": {},
   "outputs": [],
   "source": [
    "log_filepaths = {}\n",
    "for pml_dir in pml_dirs:\n",
    "    qc = PipelinePlateQC(pml_dir)\n",
    "    log_filepath = glob.glob(os.path.join(qc.log_dir, '*important-events.log'))[0]\n",
    "    log_filepaths[qc.root_dirname] = log_filepath"
   ]
  },
  {
   "cell_type": "code",
   "execution_count": null,
   "metadata": {},
   "outputs": [],
   "source": [
    "well_id = 'B2'\n",
    "results = {}\n",
    "for pml_id, filepath in log_filepaths.items():\n",
    "    with open(filepath, 'r') as file:\n",
    "        lines = file.readlines()\n",
    "        inds = [ind for ind, line in enumerate(lines) if re.findall('Imaging \\d FOVs in well %s' % well_id, line)]\n",
    "        if not inds:\n",
    "            results[pml_id] = None\n",
    "            continue\n",
    "        for line in lines[inds[0]:]:\n",
    "            result = re.findall('max_intensity = (\\d+) at z = (-?\\d+)', line)\n",
    "            if result:\n",
    "                results[pml_id] = line\n",
    "                break"
   ]
  },
  {
   "cell_type": "code",
   "execution_count": null,
   "metadata": {},
   "outputs": [],
   "source": [
    "results"
   ]
  },
  {
   "cell_type": "code",
   "execution_count": null,
   "metadata": {},
   "outputs": [],
   "source": []
  }
 ],
 "metadata": {
  "kernelspec": {
   "display_name": "sklearnenv",
   "language": "python",
   "name": "sklearnenv"
  },
  "language_info": {
   "codemirror_mode": {
    "name": "ipython",
    "version": 3
   },
   "file_extension": ".py",
   "mimetype": "text/x-python",
   "name": "python",
   "nbconvert_exporter": "python",
   "pygments_lexer": "ipython3",
   "version": "3.7.3"
  }
 },
 "nbformat": 4,
 "nbformat_minor": 2
}
