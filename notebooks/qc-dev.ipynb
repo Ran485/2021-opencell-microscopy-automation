{
 "cells": [
  {
   "cell_type": "code",
   "execution_count": null,
   "metadata": {},
   "outputs": [],
   "source": [
    "import os\n",
    "import re\n",
    "import sys\n",
    "import glob\n",
    "import json\n",
    "import shutil\n",
    "import skimage\n",
    "import tifffile\n",
    "import datetime\n",
    "import numpy as np\n",
    "import pandas as pd\n",
    "import seaborn as sns\n",
    "\n",
    "from scipy import ndimage\n",
    "from matplotlib import pyplot as plt\n",
    "from matplotlib import colors as mplcolors\n",
    "\n",
    "from skimage import feature\n",
    "from skimage import morphology\n",
    "\n",
    "%load_ext autoreload\n",
    "%autoreload 2"
   ]
  },
  {
   "cell_type": "code",
   "execution_count": null,
   "metadata": {},
   "outputs": [],
   "source": [
    "sys.path.append('/Users/keith.cheveralls/projects/opencell-process/')\n",
    "from pipeline_process.imaging import image, utils, viz\n",
    "\n",
    "sys.path.append('/Users/keith.cheveralls/projects/dragonfly-automation/')\n",
    "import dragonfly_automation.utils\n",
    "from dragonfly_automation.fov_models import PipelineFOVScorer\n",
    "from dragonfly_automation.qc import half_plate_layout\n",
    "from dragonfly_automation.qc.pipeline_plate_qc import PipelinePlateQC"
   ]
  },
  {
   "cell_type": "code",
   "execution_count": null,
   "metadata": {},
   "outputs": [],
   "source": [
    "ml_dirs = glob.glob('/Users/keith.cheveralls/image-data/dragonfly-automation-tests/ML*')\n",
    "ml_dirs = sorted(ml_dirs)\n",
    "ml_dirs"
   ]
  },
  {
   "cell_type": "code",
   "execution_count": null,
   "metadata": {},
   "outputs": [],
   "source": [
    "for ml_dir in ml_dirs:\n",
    "    qc = PipelinePlateQC(ml_dir)\n",
    "    qc.summarize()"
   ]
  },
  {
   "cell_type": "code",
   "execution_count": null,
   "metadata": {},
   "outputs": [],
   "source": [
    "qc = PipelinePlateQC(\n",
    "    '/Users/keith.cheveralls/image-data/dragonfly-automation-tests/mNG-P0010-EP01-R02/ML0198_20191024/',\n",
    "    which_half='first')"
   ]
  },
  {
   "cell_type": "markdown",
   "metadata": {},
   "source": [
    "### File renaming"
   ]
  },
  {
   "cell_type": "code",
   "execution_count": null,
   "metadata": {},
   "outputs": [],
   "source": [
    "d = pd.DataFrame(data=half_plate_layout.first_half)\n",
    "'B9' in d.imaging_well_id.values"
   ]
  },
  {
   "cell_type": "code",
   "execution_count": null,
   "metadata": {},
   "outputs": [],
   "source": [
    "qc.rename_raw_tiffs_from_half_plate(plate_num=8, imaging_round_num=2)"
   ]
  },
  {
   "cell_type": "code",
   "execution_count": null,
   "metadata": {},
   "outputs": [],
   "source": [
    "# raw filename format\n",
    "'MMStack_1180-G9-5.ome.tif'\n",
    "\n",
    "# oc-plate-microscopy format (for z-projection)\n",
    "'mNG-P0001-E01-R01-ML0066-A01-S01-ATL2_DAPI-PROJ-Z.tif'\n",
    "\n",
    "# raw oc-plate-microscopy\n",
    "'mNG-P0001-E01-R01-ML0066-A01-S01-ATL2.ome.tif'"
   ]
  },
  {
   "cell_type": "code",
   "execution_count": null,
   "metadata": {},
   "outputs": [],
   "source": [
    "# for canonical half-plate imaging, the plate_num and imaging_round_num must be specified\n",
    "qc.rename_raw_tiffs_from_half_plate(\n",
    "    plate_num=8,\n",
    "    imaging_round_num=2,\n",
    "    preview=True)\n",
    "\n",
    "# for manual redo with a custom platemap, no kwargs are allowed, except for 'preview'\n",
    "qc.rename_raw_tiffs_from_platemap(preview=True)\n",
    "\n",
    "# a custom platemap must include plate_id and imaging_round_num (which is 1 for original, 2 for thawed)\n",
    "pipeline_plate_num, imaging_round_num, pipeline_well_id, imaging_plate_well_id\n",
    "8, 2, 'A1', 'B9'\n",
    "8, 2, 'A2', 'B8'"
   ]
  },
  {
   "cell_type": "code",
   "execution_count": null,
   "metadata": {},
   "outputs": [],
   "source": [
    "qc.aq_log.head()"
   ]
  },
  {
   "cell_type": "code",
   "execution_count": null,
   "metadata": {},
   "outputs": [],
   "source": [
    "qc.summarize()"
   ]
  },
  {
   "cell_type": "code",
   "execution_count": null,
   "metadata": {},
   "outputs": [],
   "source": [
    "qc.plot_counts_and_scores(save_plot=False)"
   ]
  },
  {
   "cell_type": "code",
   "execution_count": null,
   "metadata": {},
   "outputs": [],
   "source": [
    "qc.generate_z_projections('/Users/keith.cheveralls/projects/opencell-process/')"
   ]
  }
 ],
 "metadata": {
  "kernelspec": {
   "display_name": "sklearnenv",
   "language": "python",
   "name": "sklearnenv"
  },
  "language_info": {
   "codemirror_mode": {
    "name": "ipython",
    "version": 3
   },
   "file_extension": ".py",
   "mimetype": "text/x-python",
   "name": "python",
   "nbconvert_exporter": "python",
   "pygments_lexer": "ipython3",
   "version": "3.7.3"
  }
 },
 "nbformat": 4,
 "nbformat_minor": 2
}
