{
 "cells": [
  {
   "cell_type": "code",
   "execution_count": null,
   "metadata": {
    "scrolled": false
   },
   "outputs": [],
   "source": [
    "import os\n",
    "import re\n",
    "import sys\n",
    "import json\n",
    "import numpy as np\n",
    "\n",
    "from scipy import interpolate\n",
    "from matplotlib import pyplot as plt\n",
    "\n",
    "sys.path.insert(0, '..')\n",
    "from dragonfly_automation import utils\n",
    "%load_ext autoreload\n",
    "%autoreload 2"
   ]
  },
  {
   "cell_type": "code",
   "execution_count": null,
   "metadata": {},
   "outputs": [],
   "source": [
    "def get_device(position, name):\n",
    "    for device in position['DEVICES']:\n",
    "        if device['DEVICE'] == name:\n",
    "            return device\n",
    "    return None"
   ]
  },
  {
   "cell_type": "code",
   "execution_count": null,
   "metadata": {},
   "outputs": [],
   "source": [
    "def positions_from_file(filepath, well_id=None):\n",
    "    ''''''\n",
    "    with open(filepath, 'r') as file:\n",
    "        position_list = json.load(file)\n",
    "\n",
    "    num_sites_per_well = 36\n",
    "    site_nums = range(num_sites_per_well)\n",
    "    positions = position_list['POSITIONS']  \n",
    "    \n",
    "    if well_id:\n",
    "        well_positions = []\n",
    "        for position in positions:\n",
    "            _well_id, _ = utils.parse_hcs_site_label(position['LABEL'])\n",
    "            if _well_id == well_id:\n",
    "                well_positions.append(position)\n",
    "        positions = well_positions\n",
    "\n",
    "    xs, ys = [], []\n",
    "    for position in positions:\n",
    "        xs.append(get_device(position, 'XYStage')['X'])\n",
    "        ys.append(get_device(position, 'XYStage')['Y'])\n",
    "    return xs, ys"
   ]
  },
  {
   "cell_type": "code",
   "execution_count": null,
   "metadata": {},
   "outputs": [],
   "source": [
    "# from full greiner plate that crashed on H12 site 30\n",
    "filepath_crashed = '/Users/keith.cheveralls/Box/2020-02-14-position-lists/20200213_raw_positions.pos'\n",
    "\n",
    "# from half-plate greiner that did not crash\n",
    "filepath_okay = '/Users/keith.cheveralls/Box/2020-02-14-position-lists/20200124_raw_positions.pos'"
   ]
  },
  {
   "cell_type": "code",
   "execution_count": null,
   "metadata": {},
   "outputs": [],
   "source": [
    "# from full greiner plate that crashed on H12 site 30\n",
    "filepath_crashed = '/Users/keith.cheveralls/Box/2020-02-14-position-lists/20200211_raw_positions.pos'\n",
    "\n",
    "# from half-plate greiner that did not crash\n",
    "filepath_okay = '/Users/keith.cheveralls/Box/2020-02-14-position-lists/20191125_raw_positions.pos'"
   ]
  },
  {
   "cell_type": "code",
   "execution_count": null,
   "metadata": {},
   "outputs": [],
   "source": [
    "with open(filepath_okay, 'r') as file:\n",
    "    d = json.load(file)"
   ]
  },
  {
   "cell_type": "code",
   "execution_count": null,
   "metadata": {},
   "outputs": [],
   "source": [
    "d"
   ]
  },
  {
   "cell_type": "code",
   "execution_count": null,
   "metadata": {},
   "outputs": [],
   "source": [
    "plt.figure(figsize=(16, 12))\n",
    "ax = plt.gca()\n",
    "\n",
    "x, y = positions_from_file(filepath_crashed, well_id='B2')\n",
    "ax.plot(x, y, marker='.', color='gray')\n",
    "\n",
    "x, y = positions_from_file(filepath_okay, well_id='B2')\n",
    "ax.plot(x, y, marker='.', color='red')"
   ]
  },
  {
   "cell_type": "code",
   "execution_count": null,
   "metadata": {},
   "outputs": [],
   "source": [
    "x, y = positions_from_file(filepath_crashed, well_id='B2')\n",
    "np.diff(x)"
   ]
  },
  {
   "cell_type": "code",
   "execution_count": null,
   "metadata": {},
   "outputs": [],
   "source": []
  }
 ],
 "metadata": {
  "kernelspec": {
   "display_name": "sklearnenv",
   "language": "python",
   "name": "sklearnenv"
  },
  "language_info": {
   "codemirror_mode": {
    "name": "ipython",
    "version": 3
   },
   "file_extension": ".py",
   "mimetype": "text/x-python",
   "name": "python",
   "nbconvert_exporter": "python",
   "pygments_lexer": "ipython3",
   "version": "3.7.3"
  }
 },
 "nbformat": 4,
 "nbformat_minor": 2
}
