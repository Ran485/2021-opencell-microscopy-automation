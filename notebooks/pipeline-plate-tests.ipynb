{
 "cells": [
  {
   "cell_type": "code",
   "execution_count": null,
   "metadata": {},
   "outputs": [],
   "source": [
    "import os\n",
    "import re\n",
    "import sys\n",
    "import git\n",
    "import json\n",
    "import skimage\n",
    "import sklearn\n",
    "import tifffile\n",
    "import logging\n",
    "import datetime\n",
    "import numpy as np\n",
    "import pandas as pd\n",
    "\n",
    "from py4j.java_gateway import JavaGateway\n",
    "from matplotlib import pyplot as plt"
   ]
  },
  {
   "cell_type": "code",
   "execution_count": null,
   "metadata": {},
   "outputs": [],
   "source": [
    "sys.path.insert(0, '..')\n",
    "from dragonfly_automation import utils\n",
    "from dragonfly_automation.gateway import gateway_utils\n",
    "from dragonfly_automation.fov_models import PipelineFOVScorer\n",
    "from dragonfly_automation.acquisitions.pipeline_plate_acquisition import PipelinePlateAcquisition"
   ]
  },
  {
   "cell_type": "code",
   "execution_count": null,
   "metadata": {},
   "outputs": [],
   "source": [
    "%load_ext autoreload\n",
    "%autoreload 2"
   ]
  },
  {
   "cell_type": "code",
   "execution_count": null,
   "metadata": {},
   "outputs": [],
   "source": [
    "env = 'dev'\n",
    "test_mode = 'logged-real'\n",
    "experiment_dir = os.path.join('..', 'tests', 'output', 'ML0000')"
   ]
  },
  {
   "cell_type": "code",
   "execution_count": null,
   "metadata": {},
   "outputs": [],
   "source": [
    "# instantiate the FOV scoreer\n",
    "fov_scorer = PipelineFOVScorer(mode='prediction')\n",
    "fov_scorer.load('../models/2019-10-08/')\n",
    "fov_scorer.train()\n",
    "fov_scorer.validate()"
   ]
  },
  {
   "cell_type": "code",
   "execution_count": null,
   "metadata": {},
   "outputs": [],
   "source": [
    "# instantiate the program\n",
    "aq = PipelinePlateAcquisition(\n",
    "    experiment_dir, \n",
    "    fov_scorer, \n",
    "    env=env, \n",
    "    verbose=True,\n",
    "    test_mode=test_mode,\n",
    "    skip_fov_scoring=False,\n",
    "    platemap_type='first-half',\n",
    "    plate_id='P0001')"
   ]
  },
  {
   "cell_type": "code",
   "execution_count": null,
   "metadata": {
    "scrolled": true
   },
   "outputs": [],
   "source": [
    "# initial micrscope configuration/setup\n",
    "aq.setup()"
   ]
  },
  {
   "cell_type": "code",
   "execution_count": null,
   "metadata": {
    "scrolled": false
   },
   "outputs": [],
   "source": [
    "# run the main acquisition script\n",
    "aq.run()"
   ]
  },
  {
   "cell_type": "code",
   "execution_count": null,
   "metadata": {},
   "outputs": [],
   "source": []
  }
 ],
 "metadata": {
  "kernelspec": {
   "display_name": "sklearnenv",
   "language": "python",
   "name": "sklearnenv"
  },
  "language_info": {
   "codemirror_mode": {
    "name": "ipython",
    "version": 3
   },
   "file_extension": ".py",
   "mimetype": "text/x-python",
   "name": "python",
   "nbconvert_exporter": "python",
   "pygments_lexer": "ipython3",
   "version": "3.7.3"
  }
 },
 "nbformat": 4,
 "nbformat_minor": 2
}
