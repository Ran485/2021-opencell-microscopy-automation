{
 "cells": [
  {
   "cell_type": "code",
   "execution_count": null,
   "metadata": {
    "scrolled": false
   },
   "outputs": [],
   "source": [
    "import os\n",
    "import re\n",
    "import sys\n",
    "import json\n",
    "import numpy as np\n",
    "import py4j.protocol\n",
    "\n",
    "from scipy import interpolate\n",
    "from matplotlib import pyplot as plt\n",
    "from mpl_toolkits.mplot3d import Axes3D as ax3\n",
    "\n",
    "sys.path.insert(0, '..')\n",
    "from dragonfly_automation import operations, utils\n",
    "\n",
    "%load_ext autoreload\n",
    "%autoreload 2"
   ]
  },
  {
   "cell_type": "code",
   "execution_count": null,
   "metadata": {},
   "outputs": [],
   "source": [
    "%matplotlib qt"
   ]
  },
  {
   "cell_type": "code",
   "execution_count": null,
   "metadata": {},
   "outputs": [],
   "source": [
    "measured_focusdrive_positions = {\n",
    "'A1': 6211.909825000001,\n",
    " 'A3': 6242.66564,\n",
    " 'A6': 6287.401025,\n",
    " 'B5': 6289.52041,\n",
    " 'C6': 6319.058625000001,\n",
    " 'E6': 6336.41323,\n",
    " 'F6': 6339.529525,\n",
    " 'H6': 6327.8786150000005,\n",
    " 'H4': 6294.128265,\n",
    " 'G2': 6273.581265000001,\n",
    " 'H1': 6244.518675,\n",
    " 'F1': 6260.495870000001,\n",
    " 'F4': 6311.851955,\n",
    " 'E3': 6296.67381,\n",
    " 'C4': 6295.802465000001,\n",
    " 'C2': 6265.370075000001,\n",
    " 'B1': 6230.478225000001}"
   ]
  },
  {
   "cell_type": "code",
   "execution_count": null,
   "metadata": {
    "scrolled": false
   },
   "outputs": [],
   "source": [
    "position_list_filepath = '/Users/keith.cheveralls/Downloads/20191112_raw_positions.pos'\n",
    "with open(position_list_filepath, 'r') as file:\n",
    "    position_list = json.load(file)"
   ]
  },
  {
   "cell_type": "code",
   "execution_count": null,
   "metadata": {},
   "outputs": [],
   "source": [
    "positions = []\n",
    "for well_id, zpos in measured_focusdrive_positions.items():\n",
    "    positions.append((*utils.well_id_to_position(well_id), zpos))\n",
    "positions = np.array(positions)\n",
    "positions.shape"
   ]
  },
  {
   "cell_type": "code",
   "execution_count": null,
   "metadata": {},
   "outputs": [],
   "source": [
    "method = 'cubic'\n",
    "utils.preview_interpolation(\n",
    "    measured_focusdrive_positions, \n",
    "    top_left_well_id='A1',\n",
    "    bottom_right_well_id='H6',\n",
    "    method=method)"
   ]
  },
  {
   "cell_type": "code",
   "execution_count": null,
   "metadata": {
    "scrolled": false
   },
   "outputs": [],
   "source": [
    "new_position_list_filepath, new_position_list = utils.interpolate_focusdrive_positions_from_all(\n",
    "    position_list_filepath,\n",
    "    measured_focusdrive_positions,\n",
    "    top_left_well_id='A1',\n",
    "    bottom_right_well_id='H6',\n",
    "    method='cubic')\n",
    "\n",
    "print('Interpolated position list saved to %s' % new_position_list_filepath)"
   ]
  },
  {
   "cell_type": "code",
   "execution_count": null,
   "metadata": {},
   "outputs": [],
   "source": []
  }
 ],
 "metadata": {
  "kernelspec": {
   "display_name": "sklearnenv",
   "language": "python",
   "name": "sklearnenv"
  },
  "language_info": {
   "codemirror_mode": {
    "name": "ipython",
    "version": 3
   },
   "file_extension": ".py",
   "mimetype": "text/x-python",
   "name": "python",
   "nbconvert_exporter": "python",
   "pygments_lexer": "ipython3",
   "version": "3.7.3"
  }
 },
 "nbformat": 4,
 "nbformat_minor": 2
}
