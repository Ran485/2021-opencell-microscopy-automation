{
 "cells": [
  {
   "cell_type": "code",
   "execution_count": null,
   "metadata": {
    "scrolled": false
   },
   "outputs": [],
   "source": [
    "import os\n",
    "import re\n",
    "import sys\n",
    "import json\n",
    "import glob\n",
    "import numpy as np\n",
    "import py4j.protocol\n",
    "\n",
    "from scipy import interpolate\n",
    "from matplotlib import pyplot as plt\n",
    "from mpl_toolkits.mplot3d import Axes3D as ax3\n",
    "\n",
    "sys.path.insert(0, '..')\n",
    "from dragonfly_automation import utils\n",
    "\n",
    "%load_ext autoreload\n",
    "%autoreload 2"
   ]
  },
  {
   "cell_type": "code",
   "execution_count": null,
   "metadata": {},
   "outputs": [],
   "source": [
    "%matplotlib qt"
   ]
  },
  {
   "cell_type": "code",
   "execution_count": null,
   "metadata": {},
   "outputs": [],
   "source": [
    "measured_focusdrive_positions = {\n",
    "    'A1': 6211.909825000001,\n",
    "    'A3': 6242.66564,\n",
    "    'A6': 6287.401025,\n",
    "    'B5': 6289.52041,\n",
    "    'C6': 6319.058625000001,\n",
    "    'E6': 6336.41323,\n",
    "    'F6': 6339.529525,\n",
    "    'H6': 6327.8786150000005,\n",
    "    'H4': 6294.128265,\n",
    "    'G2': 6273.581265000001,\n",
    "    'H1': 6244.518675,\n",
    "    'F1': 6260.495870000001,\n",
    "    'F4': 6311.851955,\n",
    "    'E3': 6296.67381,\n",
    "    'C4': 6295.802465000001,\n",
    "    'C2': 6265.370075000001,\n",
    "    'B1': 6230.478225000001\n",
    "}"
   ]
  },
  {
   "cell_type": "code",
   "execution_count": null,
   "metadata": {},
   "outputs": [],
   "source": [
    "# from 2020-06-16 full greiner plate\n",
    "measured_focusdrive_positions = {\n",
    "    'A1': 6256.7289200000005,\n",
    "    'A4': 6315.793935000001,\n",
    "    'A8': 6357.911480000001,\n",
    "    'A12': 6345.625135,\n",
    "    'D12': 6400.021415,\n",
    "    'E8': 6420.134645,\n",
    "    'D4': 6376.704375,\n",
    "    'E1': 6324.45031,\n",
    "    'H1': 6326.341395,\n",
    "    'H4': 6380.273465,\n",
    "    'H8': 6419.40789,\n",
    "    'H12': 6424.030965\n",
    "}"
   ]
  },
  {
   "cell_type": "code",
   "execution_count": null,
   "metadata": {},
   "outputs": [],
   "source": [
    "measured_focusdrive_positions = {\n",
    "    'A1': 6109.8749450000005,\n",
    "    'A4': 6179.966850000001,\n",
    "    'A8': 6229.344335000001,\n",
    "    'A12': 6228.423525,\n",
    "    'B12': 6253.989320000001,\n",
    "    'B8': 6256.785995,\n",
    "    'B4': 6212.2713,\n",
    "    'B1': 6143.91067,\n",
    "    'C1': 6176.14663,\n",
    "    'C3': 6227.285830000001,\n",
    "    'D2': 6233.400465000001,\n",
    "    'D4': 6264.205745,\n",
    "    'D8': 6301.369180000001,\n",
    "    'D12': 6301.894270000001\n",
    "}"
   ]
  },
  {
   "cell_type": "code",
   "execution_count": null,
   "metadata": {
    "scrolled": false
   },
   "outputs": [],
   "source": [
    "position_list_filepath = '/Volumes/ml_group/KC/position-lists/20200617_raw_positions.pos'\n",
    "with open(position_list_filepath, 'r') as file:\n",
    "    position_list = json.load(file)"
   ]
  },
  {
   "cell_type": "code",
   "execution_count": null,
   "metadata": {},
   "outputs": [],
   "source": [
    "positions = []\n",
    "for well_id, zpos in measured_focusdrive_positions.items():\n",
    "    positions.append((*utils.well_id_to_position(well_id), zpos))\n",
    "positions = np.array(positions)\n",
    "positions.shape"
   ]
  },
  {
   "cell_type": "code",
   "execution_count": null,
   "metadata": {},
   "outputs": [],
   "source": [
    "method = 'cubic'\n",
    "utils.preview_interpolation(\n",
    "    measured_focusdrive_positions, \n",
    "    top_left_well_id='A1',\n",
    "    bottom_right_well_id='D12',\n",
    "    method=method\n",
    ")"
   ]
  },
  {
   "cell_type": "code",
   "execution_count": null,
   "metadata": {
    "scrolled": false
   },
   "outputs": [],
   "source": [
    "new_position_list_filepath, new_position_list = utils.interpolate_focusdrive_positions_from_all(\n",
    "    position_list_filepath,\n",
    "    measured_focusdrive_positions,\n",
    "    top_left_well_id='A1',\n",
    "    bottom_right_well_id='H6',\n",
    "    method='cubic'\n",
    ")\n",
    "\n",
    "print('Interpolated position list saved to %s' % new_position_list_filepath)"
   ]
  },
  {
   "cell_type": "code",
   "execution_count": null,
   "metadata": {},
   "outputs": [],
   "source": []
  }
 ],
 "metadata": {
  "kernelspec": {
   "display_name": "sklearnenv",
   "language": "python",
   "name": "sklearnenv"
  },
  "language_info": {
   "codemirror_mode": {
    "name": "ipython",
    "version": 3
   },
   "file_extension": ".py",
   "mimetype": "text/x-python",
   "name": "python",
   "nbconvert_exporter": "python",
   "pygments_lexer": "ipython3",
   "version": "3.7.3"
  }
 },
 "nbformat": 4,
 "nbformat_minor": 2
}
