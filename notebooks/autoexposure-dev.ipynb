{
 "cells": [
  {
   "cell_type": "code",
   "execution_count": null,
   "metadata": {},
   "outputs": [],
   "source": [
    "import os\n",
    "import re\n",
    "import sys\n",
    "import glob\n",
    "import json\n",
    "import shutil\n",
    "import skimage\n",
    "import tifffile\n",
    "import numpy as np\n",
    "import pandas as pd\n",
    "import seaborn as sns\n",
    "\n",
    "from scipy import stats\n",
    "from matplotlib import pyplot as plt\n",
    "\n",
    "%load_ext autoreload\n",
    "%autoreload 2"
   ]
  },
  {
   "cell_type": "code",
   "execution_count": null,
   "metadata": {},
   "outputs": [],
   "source": [
    "sys.path.append('/Users/keith.cheveralls/projects/opencell/')\n",
    "from opencell.imaging import utils, viz\n",
    "\n",
    "sys.path.append('/Users/keith.cheveralls/projects/dragonfly-automation/')\n",
    "import dragonfly_automation.utils"
   ]
  },
  {
   "cell_type": "code",
   "execution_count": null,
   "metadata": {},
   "outputs": [],
   "source": [
    "im_debris = tifffile.imread(\n",
    "    '/Volumes/ml_group/raw-pipeline-microscopy/PML0253/QC/z-projections/MMStack_47-D8-11_PROJ-CH1.tif')\n",
    "im_ok = tifffile.imread(\n",
    "    '/Volumes/ml_group/raw-pipeline-microscopy/PML0253/QC/z-projections/MMStack_66-D8-30_PROJ-CH1.tif')"
   ]
  },
  {
   "cell_type": "code",
   "execution_count": null,
   "metadata": {},
   "outputs": [],
   "source": [
    "plt.imshow(np.log(im_debris.astype(float)/65535))"
   ]
  },
  {
   "cell_type": "code",
   "execution_count": null,
   "metadata": {},
   "outputs": [],
   "source": [
    "plt.figure(figsize=(10,5))\n",
    "for im in [im_ok, im_debris]:\n",
    "    counts, edges = np.histogram(im.flatten(), bins=np.arange(0, 2**15, 100))\n",
    "    plt.gca().plot(edges[1:], np.log(counts + 1))"
   ]
  },
  {
   "cell_type": "code",
   "execution_count": null,
   "metadata": {},
   "outputs": [],
   "source": [
    "percentiles = np.arange(90, 100, .1)\n",
    "plt.figure(figsize=(10, 5))\n",
    "for im in [im_ok, im_debris]:\n",
    "    intensities = [np.percentile(im, p) for p in percentiles]\n",
    "    plt.gca().plot(percentiles, intensities)"
   ]
  },
  {
   "cell_type": "code",
   "execution_count": null,
   "metadata": {},
   "outputs": [],
   "source": [
    "p = 99\n",
    "np.percentile(im_ok, p), np.percentile(im_debris, p)"
   ]
  },
  {
   "cell_type": "code",
   "execution_count": null,
   "metadata": {},
   "outputs": [],
   "source": [
    "im = im_debris\n",
    "plt.imshow(im > 8000)"
   ]
  },
  {
   "cell_type": "code",
   "execution_count": null,
   "metadata": {},
   "outputs": [],
   "source": []
  }
 ],
 "metadata": {
  "kernelspec": {
   "display_name": "sklearnenv",
   "language": "python",
   "name": "sklearnenv"
  },
  "language_info": {
   "codemirror_mode": {
    "name": "ipython",
    "version": 3
   },
   "file_extension": ".py",
   "mimetype": "text/x-python",
   "name": "python",
   "nbconvert_exporter": "python",
   "pygments_lexer": "ipython3",
   "version": "3.7.3"
  }
 },
 "nbformat": 4,
 "nbformat_minor": 2
}
